{
 "cells": [
  {
   "cell_type": "markdown",
   "metadata": {
    "id": "dc_ilxfPnL5A"
   },
   "source": [
    "# Sushmita das\n"
   ]
  },
  {
   "cell_type": "markdown",
   "metadata": {},
   "source": [
    "# Project :- Twitter data Gathering And Sentiment Analysis\n"
   ]
  },
  {
   "cell_type": "markdown",
   "metadata": {},
   "source": [
    "# First stage Data Gathering with the help of twitter api"
   ]
  },
  {
   "cell_type": "code",
   "execution_count": 1,
   "metadata": {},
   "outputs": [],
   "source": [
    "import tweepy\n",
    "import webbrowser\n",
    "from datetime import datetime\n",
    "import pandas as pd\n",
    "start_time=datetime.now()"
   ]
  },
  {
   "cell_type": "code",
   "execution_count": 2,
   "metadata": {
    "id": "fUf51cNXnXrC"
   },
   "outputs": [],
   "source": [
    "CONSUMER_KEY =\"awqpwtKvKEjBtIIZpHlQywzDx\"\n",
    "CONSUMER_SECRET = \"IB85prZ9oLsAQtQ8mR8IhGM5f0mBKHTE3erYAQegqyF8wuTDM3\"\n"
   ]
  },
  {
   "cell_type": "code",
   "execution_count": 3,
   "metadata": {
    "id": "izQoJC1snX-i"
   },
   "outputs": [],
   "source": [
    "callback_uri = 'oob'"
   ]
  },
  {
   "cell_type": "code",
   "execution_count": null,
   "metadata": {
    "colab": {
     "base_uri": "https://localhost:8080/"
    },
    "id": "QurwM9winYKE",
    "outputId": "7f5cd482-1ebd-4ae6-de6a-5163771ae0c6"
   },
   "outputs": [
    {
     "data": {
      "text/plain": [
       "False"
      ]
     },
     "execution_count": 10,
     "metadata": {},
     "output_type": "execute_result"
    }
   ],
   "source": [
    "auth = tweepy.OAuthHandler(CONSUMER_KEY,CONSUMER_SECRET,callback_uri)\n",
    "redirect_url = auth.get_authorization_url()\n",
    "webbrowser.open(redirect_url)"
   ]
  },
  {
   "cell_type": "code",
   "execution_count": null,
   "metadata": {
    "colab": {
     "base_uri": "https://localhost:8080/"
    },
    "id": "EtE_AnK7n_NX",
    "outputId": "6705b033-a455-40b8-9dba-775afd5a3ada"
   },
   "outputs": [
    {
     "name": "stdout",
     "output_type": "stream",
     "text": [
      "enter user pin? 22785158\n"
     ]
    }
   ],
   "source": [
    "user_print_input=input(\"enter user pin? \")"
   ]
  },
  {
   "cell_type": "code",
   "execution_count": null,
   "metadata": {
    "colab": {
     "base_uri": "https://localhost:8080/",
     "height": 35
    },
    "id": "T_z7EGZMoWv_",
    "outputId": "c5ba5848-fe8a-4ec6-af5f-d1e2f0b97b34"
   },
   "outputs": [
    {
     "data": {
      "application/vnd.google.colaboratory.intrinsic+json": {
       "type": "string"
      },
      "text/plain": [
       "'22785158'"
      ]
     },
     "execution_count": 12,
     "metadata": {},
     "output_type": "execute_result"
    }
   ],
   "source": [
    "user_print_input"
   ]
  },
  {
   "cell_type": "code",
   "execution_count": null,
   "metadata": {
    "id": "NYl4IeO3qnw6"
   },
   "outputs": [],
   "source": [
    "auth.access_token=\"1469696166480601094-QkVnyCzz91J1DIRn8lF9mVFzDoIeBP\"\n",
    "auth.access_token_secret=\"YRHcZmHdkuGueydQ2dEUj6qq6HGWg1285F9xSSitPdWra\""
   ]
  },
  {
   "cell_type": "code",
   "execution_count": null,
   "metadata": {
    "id": "XMH9a44xqn9o"
   },
   "outputs": [],
   "source": [
    "api = tweepy.API(auth)"
   ]
  },
  {
   "cell_type": "code",
   "execution_count": null,
   "metadata": {
    "id": "cuW_L4pnr1wJ"
   },
   "outputs": [],
   "source": [
    "import tweepy\n",
    "consumer_key = \"awqpwtKvKEjBtIIZpHlQywzDx\"\n",
    "consumer_secret = \"IB85prZ9oLsAQtQ8mR8IhGM5f0mBKHTE3erYAQegqyF8wuTDM3\"\n",
    "access_token = \"1469696166480601094-QkVnyCzz91J1DIRn8lF9mVFzDoIeBP\"\n",
    "access_token_secret = \"YRHcZmHdkuGueydQ2dEUj6qq6HGWg1285F9xSSitPdWra\"\n",
    "\n",
    "# Creating the authentication object\n",
    "auth = tweepy.OAuthHandler(consumer_key, consumer_secret)\n",
    "# Setting your access token and secret\n",
    "auth.set_access_token(access_token, access_token_secret)\n",
    "# Creating the API object while passing in auth information\n",
    "# Creating the API object while passing in auth information\n",
    "# Creating the API object while passing in auth information"
   ]
  },
  {
   "cell_type": "code",
   "execution_count": null,
   "metadata": {
    "id": "-5K0C4QDtfbG"
   },
   "outputs": [],
   "source": [
    "api=tweepy.API(auth)"
   ]
  },
  {
   "cell_type": "code",
   "execution_count": null,
   "metadata": {
    "colab": {
     "base_uri": "https://localhost:8080/"
    },
    "id": "GrNBM9eatoR6",
    "outputId": "8da4cb1f-dba9-4c1d-96dc-8b5bf615b652"
   },
   "outputs": [
    {
     "name": "stdout",
     "output_type": "stream",
     "text": [
      "हर हर महादेव!\n",
      "\n",
      "#KashiVishwanathDham https://t.co/P6LrC34yYm\n",
      "RT @manishmedia: देेश में #OmicronVirus की वजह से भारत मे तीसरी लहर के ख़तरों के बीच ITBP का दिल्ली में स्थित सरदार पटेल कोविड सेंटर कोविड…\n",
      "काशीश्वरं सकलभक्तजनातिहारं\n",
      "विश्वेश्वरं प्रणतपालनभव्यभारम्।\n",
      "रामेश्वरं विजयदानविधानधीरं\n",
      "गौरीश्वरं वरदहस्तधरं नमाम:।।… https://t.co/SlD7NOSjU5\n",
      "समस्त देशवासियों के लिए ऐतिहासिक पल!\n",
      "\n",
      "पीएम श्री @narendramodi कुछ ही देर में 'श्री काशी विश्वनाथ धाम' को देश को सम… https://t.co/ZtIU123Rqe\n",
      "लाइव: आदरणीय प्रधानमंत्री श्री @narendramodi जी द्वारा काशी के भव्य स्वरूप 'काशी विश्वनाथ धाम' का लोकार्पण।… https://t.co/lK4y6VPAHo\n",
      "माँ गंगा की गोद में उनके स्नेह ने कृतार्थ कर दिया। ऐसा लगा जैसे माँ गंगा की कलकल करती लहरें विश्वनाथ धाम के लिए आशी… https://t.co/j15rYGVc8b\n",
      "सुबह बनारस..\n",
      "शाम बनारस..\n",
      "मोदी तेरे नाम बनारस..\n",
      "\n",
      "#KashiVishwanathDham https://t.co/V6m0KopeZT\n",
      "पीएम मोदी का गंगा स्नान..ललिता घाट से नरेंद्र मोदी की तस्वीर \n",
      "\n",
      "#UPElection2022 | #PMModi | #Banaras |… https://t.co/dLQziM8ylT\n",
      "प्रधानमंत्री श्री @narendramodi ने काशी विश्वनाथ धाम के लोकार्पण से पहले मां गंगा में डुबकी लगायी और सूर्यदेव को अ… https://t.co/YoJjRXTfsT\n",
      "आदरणीय प्रधानमंत्री श्री @narendramodi जी ललिता घाट, काशी में बाबा विश्वनाथ के जलाभिषेक के लिए जल ग्रहण कर भगवान सू… https://t.co/adkgM3zyUQ\n",
      "मोदी के विश्वनाथ..कब-कब कायाकल्प ? \n",
      "\n",
      "#UPElection2022 | #PMModi | #Banaras | @myogiadityanath | @PMOIndia | @BJP4UP… https://t.co/4sPIVQLab5\n",
      "लाइव: प्रधानमंत्री श्री @narendramodi द्वारा काशी के भव्य स्वरूप 'काशी विश्वनाथ धाम' का लोकार्पण।… https://t.co/9GPo1CK6k3\n",
      "बाबा विश्वनाथ की नगरी काशी में शिव भक्तों का अभिवादन स्वीकार करते हुए काशी के लाल प्रधानमंत्री श्री @narendramodi.… https://t.co/sSGaD9sygm\n",
      "महादेव भक्ति से 'मोक्ष' द्वार तक... \n",
      "\n",
      "#UPElection2022 | #PMModi | #Banaras | @myogiadityanath | @PMOIndia | @BJP4UP… https://t.co/R1WqtI1QR0\n",
      "अलकनंदा क्रूज से पीएम मोदी  की तस्वीर \n",
      "\n",
      "#UPElection2022 | #PMModi | #Banaras | @myogiadityanath | @PMOIndia |… https://t.co/KFUeLOUdId\n",
      "11 लाख दीयों की रौशनी से जगमग होगी काशी \n",
      "\n",
      "#UPElection2022 | #PMModi | #Banaras | @myogiadityanath | @PMOIndia |… https://t.co/FQbX894XeD\n",
      "“I look forward to leading team India in white-ball cricket.”\n",
      "\n",
      "New captain Rohit Sharma ready to take the charge 👇\n",
      "\n",
      "https://t.co/t5iz3aPkiY\n",
      "उत्साह एवं जनसमर्थन का अद्भुत संगम\n",
      "\n",
      "#KashiVishwanathDham https://t.co/vBOp4vSjTk\n",
      "उत्तराखंड विधानसभा के पूर्व अध्यक्ष और वरिष्ठ राजनेता श्री हरबंस कपूर जी का निधन दुखद है। संसदीय मूल्यों को मजबूत ब… https://t.co/hB97UESz1D\n"
     ]
    }
   ],
   "source": [
    "public_tweets=api.home_timeline()\n",
    "for tweet in public_tweets:\n",
    "  print (tweet.text)"
   ]
  },
  {
   "cell_type": "code",
   "execution_count": null,
   "metadata": {
    "id": "2JNpstjwtAne"
   },
   "outputs": [],
   "source": [
    "auth = tweepy.OAuthHandler(CONSUMER_KEY,CONSUMER_SECRET,callback_uri)\n",
    "redirect_url = auth.get_authorization_url()\n",
    "webbrowser.open(redirect_url)"
   ]
  },
  {
   "cell_type": "code",
   "execution_count": null,
   "metadata": {
    "colab": {
     "base_uri": "https://localhost:8080/"
    },
    "id": "kxS4ndx4uOre",
    "outputId": "ea115872-ddb2-4025-9e71-cefff1a225bd"
   },
   "outputs": [
    {
     "name": "stdout",
     "output_type": "stream",
     "text": [
      "2021-12-13 06:24:39\n"
     ]
    }
   ],
   "source": [
    "print (tweet.created_at)"
   ]
  },
  {
   "cell_type": "code",
   "execution_count": null,
   "metadata": {
    "colab": {
     "base_uri": "https://localhost:8080/"
    },
    "id": "NB8BZfAIuc_g",
    "outputId": "b5cfbc42-7e3b-4d4d-e97c-f82aa28c820e"
   },
   "outputs": [
    {
     "name": "stdout",
     "output_type": "stream",
     "text": [
      "ombirlakota\n"
     ]
    }
   ],
   "source": [
    "print(tweet.user.screen_name)"
   ]
  },
  {
   "cell_type": "code",
   "execution_count": null,
   "metadata": {
    "colab": {
     "base_uri": "https://localhost:8080/"
    },
    "id": "g-cg0_yYujcS",
    "outputId": "23638957-c84f-437a-e526-358410c9c880"
   },
   "outputs": [
    {
     "name": "stdout",
     "output_type": "stream",
     "text": [
      "\n"
     ]
    }
   ],
   "source": [
    "print(tweet.user.location)"
   ]
  },
  {
   "cell_type": "code",
   "execution_count": null,
   "metadata": {
    "id": "hu_tmRCeuxxO"
   },
   "outputs": [],
   "source": [
    "api=tweepy.API(auth)\n"
   ]
  },
  {
   "cell_type": "code",
   "execution_count": null,
   "metadata": {
    "colab": {
     "base_uri": "https://localhost:8080/"
    },
    "id": "cpFPJ3xLvLa6",
    "outputId": "a4d5a09d-d055-48a5-8132-949c3ef5e349"
   },
   "outputs": [
    {
     "name": "stdout",
     "output_type": "stream",
     "text": [
      "[Status(_api=<tweepy.api.API object at 0x7f6ee5750690>, _json={'created_at': 'Mon Dec 13 06:39:32 +0000 2021', 'id': 1470282219822325763, 'id_str': '1470282219822325763', 'full_text': 'RT @toptal: During COVID-19, @ATT revamped its benefits and policies to be more flexible and family-friendly. Angela Santone, @ATT’s Senior…', 'truncated': False, 'display_text_range': [0, 140], 'entities': {'hashtags': [], 'symbols': [], 'user_mentions': [{'screen_name': 'toptal', 'name': 'Toptal', 'id': 442449363, 'id_str': '442449363', 'indices': [3, 10]}, {'screen_name': 'ATT', 'name': 'AT&T', 'id': 14620190, 'id_str': '14620190', 'indices': [29, 33]}, {'screen_name': 'ATT', 'name': 'AT&T', 'id': 14620190, 'id_str': '14620190', 'indices': [126, 130]}], 'urls': []}, 'metadata': {'iso_language_code': 'en', 'result_type': 'recent'}, 'source': '<a href=\"http://twitter.com/download/android\" rel=\"nofollow\">Twitter for Android</a>', 'in_reply_to_status_id': None, 'in_reply_to_status_id_str': None, 'in_reply_to_user_id': None, 'in_reply_to_user_id_str': None, 'in_reply_to_screen_name': None, 'user': {'id': 1900832748, 'id_str': '1900832748', 'name': 'Sole Ranieri', 'screen_name': 'SoledadRanieri', 'location': 'Sydney, New South Wales', 'description': 'Mum of two boys. Love animals. Veggie Life. Fitness girl. Instagram➡ @solranieri 🔝follow me 😀', 'url': None, 'entities': {'description': {'urls': []}}, 'protected': False, 'followers_count': 1389, 'friends_count': 148, 'listed_count': 102, 'created_at': 'Tue Sep 24 15:34:24 +0000 2013', 'favourites_count': 73284, 'utc_offset': None, 'time_zone': None, 'geo_enabled': True, 'verified': False, 'statuses_count': 473156, 'lang': None, 'contributors_enabled': False, 'is_translator': False, 'is_translation_enabled': False, 'profile_background_color': 'C0DEED', 'profile_background_image_url': 'http://abs.twimg.com/images/themes/theme1/bg.png', 'profile_background_image_url_https': 'https://abs.twimg.com/images/themes/theme1/bg.png', 'profile_background_tile': False, 'profile_image_url': 'http://pbs.twimg.com/profile_images/1428516018532491264/VharG_1O_normal.jpg', 'profile_image_url_https': 'https://pbs.twimg.com/profile_images/1428516018532491264/VharG_1O_normal.jpg', 'profile_banner_url': 'https://pbs.twimg.com/profile_banners/1900832748/1518142336', 'profile_link_color': '1DA1F2', 'profile_sidebar_border_color': 'C0DEED', 'profile_sidebar_fill_color': 'DDEEF6', 'profile_text_color': '333333', 'profile_use_background_image': True, 'has_extended_profile': True, 'default_profile': True, 'default_profile_image': False, 'following': False, 'follow_request_sent': False, 'notifications': False, 'translator_type': 'none', 'withheld_in_countries': []}, 'geo': None, 'coordinates': None, 'place': None, 'contributors': None, 'retweeted_status': {'created_at': 'Tue Dec 07 15:54:48 +0000 2021', 'id': 1468247632611061762, 'id_str': '1468247632611061762', 'full_text': 'During COVID-19, @ATT revamped its benefits and policies to be more flexible and family-friendly. Angela Santone, @ATT’s Senior Executive VP of HR, talks about why caring for employees ultimately helps the company fulfill its mission. https://t.co/eEwSkgxuKB https://t.co/S6bAt91T4h', 'truncated': False, 'display_text_range': [0, 258], 'entities': {'hashtags': [], 'symbols': [], 'user_mentions': [{'screen_name': 'ATT', 'name': 'AT&T', 'id': 14620190, 'id_str': '14620190', 'indices': [17, 21]}, {'screen_name': 'ATT', 'name': 'AT&T', 'id': 14620190, 'id_str': '14620190', 'indices': [114, 118]}], 'urls': [{'url': 'https://t.co/eEwSkgxuKB', 'expanded_url': 'https://topt.al/QQcQmQ', 'display_url': 'topt.al/QQcQmQ', 'indices': [235, 258]}], 'media': [{'id': 1468244839682695169, 'id_str': '1468244839682695169', 'indices': [259, 282], 'media_url': 'http://pbs.twimg.com/ext_tw_video_thumb/1468244839682695169/pu/img/xcQ6Oq33KBmXLdpW.jpg', 'media_url_https': 'https://pbs.twimg.com/ext_tw_video_thumb/1468244839682695169/pu/img/xcQ6Oq33KBmXLdpW.jpg', 'url': 'https://t.co/S6bAt91T4h', 'display_url': 'pic.twitter.com/S6bAt91T4h', 'expanded_url': 'https://twitter.com/toptal/status/1468247632611061762/video/1', 'type': 'photo', 'sizes': {'thumb': {'w': 150, 'h': 150, 'resize': 'crop'}, 'small': {'w': 680, 'h': 680, 'resize': 'fit'}, 'medium': {'w': 720, 'h': 720, 'resize': 'fit'}, 'large': {'w': 720, 'h': 720, 'resize': 'fit'}}}]}, 'extended_entities': {'media': [{'id': 1468244839682695169, 'id_str': '1468244839682695169', 'indices': [259, 282], 'media_url': 'http://pbs.twimg.com/ext_tw_video_thumb/1468244839682695169/pu/img/xcQ6Oq33KBmXLdpW.jpg', 'media_url_https': 'https://pbs.twimg.com/ext_tw_video_thumb/1468244839682695169/pu/img/xcQ6Oq33KBmXLdpW.jpg', 'url': 'https://t.co/S6bAt91T4h', 'display_url': 'pic.twitter.com/S6bAt91T4h', 'expanded_url': 'https://twitter.com/toptal/status/1468247632611061762/video/1', 'type': 'video', 'sizes': {'thumb': {'w': 150, 'h': 150, 'resize': 'crop'}, 'small': {'w': 680, 'h': 680, 'resize': 'fit'}, 'medium': {'w': 720, 'h': 720, 'resize': 'fit'}, 'large': {'w': 720, 'h': 720, 'resize': 'fit'}}, 'video_info': {'aspect_ratio': [1, 1], 'duration_millis': 47791, 'variants': [{'bitrate': 832000, 'content_type': 'video/mp4', 'url': 'https://video.twimg.com/ext_tw_video/1468244839682695169/pu/vid/540x540/Olm_FWRNyWjp-AFC.mp4?tag=12'}, {'bitrate': 1280000, 'content_type': 'video/mp4', 'url': 'https://video.twimg.com/ext_tw_video/1468244839682695169/pu/vid/720x720/J_rzj4ddIEEajMnY.mp4?tag=12'}, {'content_type': 'application/x-mpegURL', 'url': 'https://video.twimg.com/ext_tw_video/1468244839682695169/pu/pl/BUaSQomrGUfXUstr.m3u8?tag=12&container=fmp4'}, {'bitrate': 432000, 'content_type': 'video/mp4', 'url': 'https://video.twimg.com/ext_tw_video/1468244839682695169/pu/vid/320x320/ulRGihyHXJdcNoou.mp4?tag=12'}]}, 'additional_media_info': {'monetizable': False}}]}, 'metadata': {'iso_language_code': 'en', 'result_type': 'recent'}, 'source': '<a href=\"https://mobile.twitter.com\" rel=\"nofollow\">Twitter Web App</a>', 'in_reply_to_status_id': None, 'in_reply_to_status_id_str': None, 'in_reply_to_user_id': None, 'in_reply_to_user_id_str': None, 'in_reply_to_screen_name': None, 'user': {'id': 442449363, 'id_str': '442449363', 'name': 'Toptal', 'screen_name': 'toptal', 'location': 'San Francisco, CA', 'description': 'Toptal is a network of the world’s top talent in business, design, and technology that enables companies to scale their teams, on demand.', 'url': 'https://t.co/INi8yIMbBZ', 'entities': {'url': {'urls': [{'url': 'https://t.co/INi8yIMbBZ', 'expanded_url': 'https://www.toptal.com/', 'display_url': 'toptal.com', 'indices': [0, 23]}]}, 'description': {'urls': []}}, 'protected': False, 'followers_count': 149163, 'friends_count': 2834, 'listed_count': 715, 'created_at': 'Wed Dec 21 04:05:27 +0000 2011', 'favourites_count': 5326, 'utc_offset': None, 'time_zone': None, 'geo_enabled': False, 'verified': True, 'statuses_count': 5209, 'lang': None, 'contributors_enabled': False, 'is_translator': False, 'is_translation_enabled': False, 'profile_background_color': '131516', 'profile_background_image_url': 'http://abs.twimg.com/images/themes/theme14/bg.gif', 'profile_background_image_url_https': 'https://abs.twimg.com/images/themes/theme14/bg.gif', 'profile_background_tile': True, 'profile_image_url': 'http://pbs.twimg.com/profile_images/1221787302491557890/WjQToOzJ_normal.png', 'profile_image_url_https': 'https://pbs.twimg.com/profile_images/1221787302491557890/WjQToOzJ_normal.png', 'profile_banner_url': 'https://pbs.twimg.com/profile_banners/442449363/1614775185', 'profile_link_color': '009999', 'profile_sidebar_border_color': 'EEEEEE', 'profile_sidebar_fill_color': 'EFEFEF', 'profile_text_color': '333333', 'profile_use_background_image': True, 'has_extended_profile': False, 'default_profile': False, 'default_profile_image': False, 'following': False, 'follow_request_sent': False, 'notifications': False, 'translator_type': 'none', 'withheld_in_countries': []}, 'geo': None, 'coordinates': None, 'place': None, 'contributors': None, 'is_quote_status': False, 'retweet_count': 5, 'favorite_count': 51, 'favorited': False, 'retweeted': False, 'possibly_sensitive': False, 'lang': 'en'}, 'is_quote_status': False, 'retweet_count': 5, 'favorite_count': 0, 'favorited': False, 'retweeted': False, 'lang': 'en'}, created_at=datetime.datetime(2021, 12, 13, 6, 39, 32), id=1470282219822325763, id_str='1470282219822325763', full_text='RT @toptal: During COVID-19, @ATT revamped its benefits and policies to be more flexible and family-friendly. Angela Santone, @ATT’s Senior…', truncated=False, display_text_range=[0, 140], entities={'hashtags': [], 'symbols': [], 'user_mentions': [{'screen_name': 'toptal', 'name': 'Toptal', 'id': 442449363, 'id_str': '442449363', 'indices': [3, 10]}, {'screen_name': 'ATT', 'name': 'AT&T', 'id': 14620190, 'id_str': '14620190', 'indices': [29, 33]}, {'screen_name': 'ATT', 'name': 'AT&T', 'id': 14620190, 'id_str': '14620190', 'indices': [126, 130]}], 'urls': []}, metadata={'iso_language_code': 'en', 'result_type': 'recent'}, source='Twitter for Android', source_url='http://twitter.com/download/android', in_reply_to_status_id=None, in_reply_to_status_id_str=None, in_reply_to_user_id=None, in_reply_to_user_id_str=None, in_reply_to_screen_name=None, author=User(_api=<tweepy.api.API object at 0x7f6ee5750690>, _json={'id': 1900832748, 'id_str': '1900832748', 'name': 'Sole Ranieri', 'screen_name': 'SoledadRanieri', 'location': 'Sydney, New South Wales', 'description': 'Mum of two boys. Love animals. Veggie Life. Fitness girl. Instagram➡ @solranieri 🔝follow me 😀', 'url': None, 'entities': {'description': {'urls': []}}, 'protected': False, 'followers_count': 1389, 'friends_count': 148, 'listed_count': 102, 'created_at': 'Tue Sep 24 15:34:24 +0000 2013', 'favourites_count': 73284, 'utc_offset': None, 'time_zone': None, 'geo_enabled': True, 'verified': False, 'statuses_count': 473156, 'lang': None, 'contributors_enabled': False, 'is_translator': False, 'is_translation_enabled': False, 'profile_background_color': 'C0DEED', 'profile_background_image_url': 'http://abs.twimg.com/images/themes/theme1/bg.png', 'profile_background_image_url_https': 'https://abs.twimg.com/images/themes/theme1/bg.png', 'profile_background_tile': False, 'profile_image_url': 'http://pbs.twimg.com/profile_images/1428516018532491264/VharG_1O_normal.jpg', 'profile_image_url_https': 'https://pbs.twimg.com/profile_images/1428516018532491264/VharG_1O_normal.jpg', 'profile_banner_url': 'https://pbs.twimg.com/profile_banners/1900832748/1518142336', 'profile_link_color': '1DA1F2', 'profile_sidebar_border_color': 'C0DEED', 'profile_sidebar_fill_color': 'DDEEF6', 'profile_text_color': '333333', 'profile_use_background_image': True, 'has_extended_profile': True, 'default_profile': True, 'default_profile_image': False, 'following': False, 'follow_request_sent': False, 'notifications': False, 'translator_type': 'none', 'withheld_in_countries': []}, id=1900832748, id_str='1900832748', name='Sole Ranieri', screen_name='SoledadRanieri', location='Sydney, New South Wales', description='Mum of two boys. Love animals. Veggie Life. Fitness girl. Instagram➡ @solranieri 🔝follow me 😀', url=None, entities={'description': {'urls': []}}, protected=False, followers_count=1389, friends_count=148, listed_count=102, created_at=datetime.datetime(2013, 9, 24, 15, 34, 24), favourites_count=73284, utc_offset=None, time_zone=None, geo_enabled=True, verified=False, statuses_count=473156, lang=None, contributors_enabled=False, is_translator=False, is_translation_enabled=False, profile_background_color='C0DEED', profile_background_image_url='http://abs.twimg.com/images/themes/theme1/bg.png', profile_background_image_url_https='https://abs.twimg.com/images/themes/theme1/bg.png', profile_background_tile=False, profile_image_url='http://pbs.twimg.com/profile_images/1428516018532491264/VharG_1O_normal.jpg', profile_image_url_https='https://pbs.twimg.com/profile_images/1428516018532491264/VharG_1O_normal.jpg', profile_banner_url='https://pbs.twimg.com/profile_banners/1900832748/1518142336', profile_link_color='1DA1F2', profile_sidebar_border_color='C0DEED', profile_sidebar_fill_color='DDEEF6', profile_text_color='333333', profile_use_background_image=True, has_extended_profile=True, default_profile=True, default_profile_image=False, following=False, follow_request_sent=False, notifications=False, translator_type='none', withheld_in_countries=[]), user=User(_api=<tweepy.api.API object at 0x7f6ee5750690>, _json={'id': 1900832748, 'id_str': '1900832748', 'name': 'Sole Ranieri', 'screen_name': 'SoledadRanieri', 'location': 'Sydney, New South Wales', 'description': 'Mum of two boys. Love animals. Veggie Life. Fitness girl. Instagram➡ @solranieri 🔝follow me 😀', 'url': None, 'entities': {'description': {'urls': []}}, 'protected': False, 'followers_count': 1389, 'friends_count': 148, 'listed_count': 102, 'created_at': 'Tue Sep 24 15:34:24 +0000 2013', 'favourites_count': 73284, 'utc_offset': None, 'time_zone': None, 'geo_enabled': True, 'verified': False, 'statuses_count': 473156, 'lang': None, 'contributors_enabled': False, 'is_translator': False, 'is_translation_enabled': False, 'profile_background_color': 'C0DEED', 'profile_background_image_url': 'http://abs.twimg.com/images/themes/theme1/bg.png', 'profile_background_image_url_https': 'https://abs.twimg.com/images/themes/theme1/bg.png', 'profile_background_tile': False, 'profile_image_url': 'http://pbs.twimg.com/profile_images/1428516018532491264/VharG_1O_normal.jpg', 'profile_image_url_https': 'https://pbs.twimg.com/profile_images/1428516018532491264/VharG_1O_normal.jpg', 'profile_banner_url': 'https://pbs.twimg.com/profile_banners/1900832748/1518142336', 'profile_link_color': '1DA1F2', 'profile_sidebar_border_color': 'C0DEED', 'profile_sidebar_fill_color': 'DDEEF6', 'profile_text_color': '333333', 'profile_use_background_image': True, 'has_extended_profile': True, 'default_profile': True, 'default_profile_image': False, 'following': False, 'follow_request_sent': False, 'notifications': False, 'translator_type': 'none', 'withheld_in_countries': []}, id=1900832748, id_str='1900832748', name='Sole Ranieri', screen_name='SoledadRanieri', location='Sydney, New South Wales', description='Mum of two boys. Love animals. Veggie Life. Fitness girl. Instagram➡ @solranieri 🔝follow me 😀', url=None, entities={'description': {'urls': []}}, protected=False, followers_count=1389, friends_count=148, listed_count=102, created_at=datetime.datetime(2013, 9, 24, 15, 34, 24), favourites_count=73284, utc_offset=None, time_zone=None, geo_enabled=True, verified=False, statuses_count=473156, lang=None, contributors_enabled=False, is_translator=False, is_translation_enabled=False, profile_background_color='C0DEED', profile_background_image_url='http://abs.twimg.com/images/themes/theme1/bg.png', profile_background_image_url_https='https://abs.twimg.com/images/themes/theme1/bg.png', profile_background_tile=False, profile_image_url='http://pbs.twimg.com/profile_images/1428516018532491264/VharG_1O_normal.jpg', profile_image_url_https='https://pbs.twimg.com/profile_images/1428516018532491264/VharG_1O_normal.jpg', profile_banner_url='https://pbs.twimg.com/profile_banners/1900832748/1518142336', profile_link_color='1DA1F2', profile_sidebar_border_color='C0DEED', profile_sidebar_fill_color='DDEEF6', profile_text_color='333333', profile_use_background_image=True, has_extended_profile=True, default_profile=True, default_profile_image=False, following=False, follow_request_sent=False, notifications=False, translator_type='none', withheld_in_countries=[]), geo=None, coordinates=None, place=None, contributors=None, retweeted_status=Status(_api=<tweepy.api.API object at 0x7f6ee5750690>, _json={'created_at': 'Tue Dec 07 15:54:48 +0000 2021', 'id': 1468247632611061762, 'id_str': '1468247632611061762', 'full_text': 'During COVID-19, @ATT revamped its benefits and policies to be more flexible and family-friendly. Angela Santone, @ATT’s Senior Executive VP of HR, talks about why caring for employees ultimately helps the company fulfill its mission. https://t.co/eEwSkgxuKB https://t.co/S6bAt91T4h', 'truncated': False, 'display_text_range': [0, 258], 'entities': {'hashtags': [], 'symbols': [], 'user_mentions': [{'screen_name': 'ATT', 'name': 'AT&T', 'id': 14620190, 'id_str': '14620190', 'indices': [17, 21]}, {'screen_name': 'ATT', 'name': 'AT&T', 'id': 14620190, 'id_str': '14620190', 'indices': [114, 118]}], 'urls': [{'url': 'https://t.co/eEwSkgxuKB', 'expanded_url': 'https://topt.al/QQcQmQ', 'display_url': 'topt.al/QQcQmQ', 'indices': [235, 258]}], 'media': [{'id': 1468244839682695169, 'id_str': '1468244839682695169', 'indices': [259, 282], 'media_url': 'http://pbs.twimg.com/ext_tw_video_thumb/1468244839682695169/pu/img/xcQ6Oq33KBmXLdpW.jpg', 'media_url_https': 'https://pbs.twimg.com/ext_tw_video_thumb/1468244839682695169/pu/img/xcQ6Oq33KBmXLdpW.jpg', 'url': 'https://t.co/S6bAt91T4h', 'display_url': 'pic.twitter.com/S6bAt91T4h', 'expanded_url': 'https://twitter.com/toptal/status/1468247632611061762/video/1', 'type': 'photo', 'sizes': {'thumb': {'w': 150, 'h': 150, 'resize': 'crop'}, 'small': {'w': 680, 'h': 680, 'resize': 'fit'}, 'medium': {'w': 720, 'h': 720, 'resize': 'fit'}, 'large': {'w': 720, 'h': 720, 'resize': 'fit'}}}]}, 'extended_entities': {'media': [{'id': 1468244839682695169, 'id_str': '1468244839682695169', 'indices': [259, 282], 'media_url': 'http://pbs.twimg.com/ext_tw_video_thumb/1468244839682695169/pu/img/xcQ6Oq33KBmXLdpW.jpg', 'media_url_https': 'https://pbs.twimg.com/ext_tw_video_thumb/1468244839682695169/pu/img/xcQ6Oq33KBmXLdpW.jpg', 'url': 'https://t.co/S6bAt91T4h', 'display_url': 'pic.twitter.com/S6bAt91T4h', 'expanded_url': 'https://twitter.com/toptal/status/1468247632611061762/video/1', 'type': 'video', 'sizes': {'thumb': {'w': 150, 'h': 150, 'resize': 'crop'}, 'small': {'w': 680, 'h': 680, 'resize': 'fit'}, 'medium': {'w': 720, 'h': 720, 'resize': 'fit'}, 'large': {'w': 720, 'h': 720, 'resize': 'fit'}}, 'video_info': {'aspect_ratio': [1, 1], 'duration_millis': 47791, 'variants': [{'bitrate': 832000, 'content_type': 'video/mp4', 'url': 'https://video.twimg.com/ext_tw_video/1468244839682695169/pu/vid/540x540/Olm_FWRNyWjp-AFC.mp4?tag=12'}, {'bitrate': 1280000, 'content_type': 'video/mp4', 'url': 'https://video.twimg.com/ext_tw_video/1468244839682695169/pu/vid/720x720/J_rzj4ddIEEajMnY.mp4?tag=12'}, {'content_type': 'application/x-mpegURL', 'url': 'https://video.twimg.com/ext_tw_video/1468244839682695169/pu/pl/BUaSQomrGUfXUstr.m3u8?tag=12&container=fmp4'}, {'bitrate': 432000, 'content_type': 'video/mp4', 'url': 'https://video.twimg.com/ext_tw_video/1468244839682695169/pu/vid/320x320/ulRGihyHXJdcNoou.mp4?tag=12'}]}, 'additional_media_info': {'monetizable': False}}]}, 'metadata': {'iso_language_code': 'en', 'result_type': 'recent'}, 'source': '<a href=\"https://mobile.twitter.com\" rel=\"nofollow\">Twitter Web App</a>', 'in_reply_to_status_id': None, 'in_reply_to_status_id_str': None, 'in_reply_to_user_id': None, 'in_reply_to_user_id_str': None, 'in_reply_to_screen_name': None, 'user': {'id': 442449363, 'id_str': '442449363', 'name': 'Toptal', 'screen_name': 'toptal', 'location': 'San Francisco, CA', 'description': 'Toptal is a network of the world’s top talent in business, design, and technology that enables companies to scale their teams, on demand.', 'url': 'https://t.co/INi8yIMbBZ', 'entities': {'url': {'urls': [{'url': 'https://t.co/INi8yIMbBZ', 'expanded_url': 'https://www.toptal.com/', 'display_url': 'toptal.com', 'indices': [0, 23]}]}, 'description': {'urls': []}}, 'protected': False, 'followers_count': 149163, 'friends_count': 2834, 'listed_count': 715, 'created_at': 'Wed Dec 21 04:05:27 +0000 2011', 'favourites_count': 5326, 'utc_offset': None, 'time_zone': None, 'geo_enabled': False, 'verified': True, 'statuses_count': 5209, 'lang': None, 'contributors_enabled': False, 'is_translator': False, 'is_translation_enabled': False, 'profile_background_color': '131516', 'profile_background_image_url': 'http://abs.twimg.com/images/themes/theme14/bg.gif', 'profile_background_image_url_https': 'https://abs.twimg.com/images/themes/theme14/bg.gif', 'profile_background_tile': True, 'profile_image_url': 'http://pbs.twimg.com/profile_images/1221787302491557890/WjQToOzJ_normal.png', 'profile_image_url_https': 'https://pbs.twimg.com/profile_images/1221787302491557890/WjQToOzJ_normal.png', 'profile_banner_url': 'https://pbs.twimg.com/profile_banners/442449363/1614775185', 'profile_link_color': '009999', 'profile_sidebar_border_color': 'EEEEEE', 'profile_sidebar_fill_color': 'EFEFEF', 'profile_text_color': '333333', 'profile_use_background_image': True, 'has_extended_profile': False, 'default_profile': False, 'default_profile_image': False, 'following': False, 'follow_request_sent': False, 'notifications': False, 'translator_type': 'none', 'withheld_in_countries': []}, 'geo': None, 'coordinates': None, 'place': None, 'contributors': None, 'is_quote_status': False, 'retweet_count': 5, 'favorite_count': 51, 'favorited': False, 'retweeted': False, 'possibly_sensitive': False, 'lang': 'en'}, created_at=datetime.datetime(2021, 12, 7, 15, 54, 48), id=1468247632611061762, id_str='1468247632611061762', full_text='During COVID-19, @ATT revamped its benefits and policies to be more flexible and family-friendly. Angela Santone, @ATT’s Senior Executive VP of HR, talks about why caring for employees ultimately helps the company fulfill its mission. https://t.co/eEwSkgxuKB https://t.co/S6bAt91T4h', truncated=False, display_text_range=[0, 258], entities={'hashtags': [], 'symbols': [], 'user_mentions': [{'screen_name': 'ATT', 'name': 'AT&T', 'id': 14620190, 'id_str': '14620190', 'indices': [17, 21]}, {'screen_name': 'ATT', 'name': 'AT&T', 'id': 14620190, 'id_str': '14620190', 'indices': [114, 118]}], 'urls': [{'url': 'https://t.co/eEwSkgxuKB', 'expanded_url': 'https://topt.al/QQcQmQ', 'display_url': 'topt.al/QQcQmQ', 'indices': [235, 258]}], 'media': [{'id': 1468244839682695169, 'id_str': '1468244839682695169', 'indices': [259, 282], 'media_url': 'http://pbs.twimg.com/ext_tw_video_thumb/1468244839682695169/pu/img/xcQ6Oq33KBmXLdpW.jpg', 'media_url_https': 'https://pbs.twimg.com/ext_tw_video_thumb/1468244839682695169/pu/img/xcQ6Oq33KBmXLdpW.jpg', 'url': 'https://t.co/S6bAt91T4h', 'display_url': 'pic.twitter.com/S6bAt91T4h', 'expanded_url': 'https://twitter.com/toptal/status/1468247632611061762/video/1', 'type': 'photo', 'sizes': {'thumb': {'w': 150, 'h': 150, 'resize': 'crop'}, 'small': {'w': 680, 'h': 680, 'resize': 'fit'}, 'medium': {'w': 720, 'h': 720, 'resize': 'fit'}, 'large': {'w': 720, 'h': 720, 'resize': 'fit'}}}]}, extended_entities={'media': [{'id': 1468244839682695169, 'id_str': '1468244839682695169', 'indices': [259, 282], 'media_url': 'http://pbs.twimg.com/ext_tw_video_thumb/1468244839682695169/pu/img/xcQ6Oq33KBmXLdpW.jpg', 'media_url_https': 'https://pbs.twimg.com/ext_tw_video_thumb/1468244839682695169/pu/img/xcQ6Oq33KBmXLdpW.jpg', 'url': 'https://t.co/S6bAt91T4h', 'display_url': 'pic.twitter.com/S6bAt91T4h', 'expanded_url': 'https://twitter.com/toptal/status/1468247632611061762/video/1', 'type': 'video', 'sizes': {'thumb': {'w': 150, 'h': 150, 'resize': 'crop'}, 'small': {'w': 680, 'h': 680, 'resize': 'fit'}, 'medium': {'w': 720, 'h': 720, 'resize': 'fit'}, 'large': {'w': 720, 'h': 720, 'resize': 'fit'}}, 'video_info': {'aspect_ratio': [1, 1], 'duration_millis': 47791, 'variants': [{'bitrate': 832000, 'content_type': 'video/mp4', 'url': 'https://video.twimg.com/ext_tw_video/1468244839682695169/pu/vid/540x540/Olm_FWRNyWjp-AFC.mp4?tag=12'}, {'bitrate': 1280000, 'content_type': 'video/mp4', 'url': 'https://video.twimg.com/ext_tw_video/1468244839682695169/pu/vid/720x720/J_rzj4ddIEEajMnY.mp4?tag=12'}, {'content_type': 'application/x-mpegURL', 'url': 'https://video.twimg.com/ext_tw_video/1468244839682695169/pu/pl/BUaSQomrGUfXUstr.m3u8?tag=12&container=fmp4'}, {'bitrate': 432000, 'content_type': 'video/mp4', 'url': 'https://video.twimg.com/ext_tw_video/1468244839682695169/pu/vid/320x320/ulRGihyHXJdcNoou.mp4?tag=12'}]}, 'additional_media_info': {'monetizable': False}}]}, metadata={'iso_language_code': 'en', 'result_type': 'recent'}, source='Twitter Web App', source_url='https://mobile.twitter.com', in_reply_to_status_id=None, in_reply_to_status_id_str=None, in_reply_to_user_id=None, in_reply_to_user_id_str=None, in_reply_to_screen_name=None, author=User(_api=<tweepy.api.API object at 0x7f6ee5750690>, _json={'id': 442449363, 'id_str': '442449363', 'name': 'Toptal', 'screen_name': 'toptal', 'location': 'San Francisco, CA', 'description': 'Toptal is a network of the world’s top talent in business, design, and technology that enables companies to scale their teams, on demand.', 'url': 'https://t.co/INi8yIMbBZ', 'entities': {'url': {'urls': [{'url': 'https://t.co/INi8yIMbBZ', 'expanded_url': 'https://www.toptal.com/', 'display_url': 'toptal.com', 'indices': [0, 23]}]}, 'description': {'urls': []}}, 'protected': False, 'followers_count': 149163, 'friends_count': 2834, 'listed_count': 715, 'created_at': 'Wed Dec 21 04:05:27 +0000 2011', 'favourites_count': 5326, 'utc_offset': None, 'time_zone': None, 'geo_enabled': False, 'verified': True, 'statuses_count': 5209, 'lang': None, 'contributors_enabled': False, 'is_translator': False, 'is_translation_enabled': False, 'profile_background_color': '131516', 'profile_background_image_url': 'http://abs.twimg.com/images/themes/theme14/bg.gif', 'profile_background_image_url_https': 'https://abs.twimg.com/images/themes/theme14/bg.gif', 'profile_background_tile': True, 'profile_image_url': 'http://pbs.twimg.com/profile_images/1221787302491557890/WjQToOzJ_normal.png', 'profile_image_url_https': 'https://pbs.twimg.com/profile_images/1221787302491557890/WjQToOzJ_normal.png', 'profile_banner_url': 'https://pbs.twimg.com/profile_banners/442449363/1614775185', 'profile_link_color': '009999', 'profile_sidebar_border_color': 'EEEEEE', 'profile_sidebar_fill_color': 'EFEFEF', 'profile_text_color': '333333', 'profile_use_background_image': True, 'has_extended_profile': False, 'default_profile': False, 'default_profile_image': False, 'following': False, 'follow_request_sent': False, 'notifications': False, 'translator_type': 'none', 'withheld_in_countries': []}, id=442449363, id_str='442449363', name='Toptal', screen_name='toptal', location='San Francisco, CA', description='Toptal is a network of the world’s top talent in business, design, and technology that enables companies to scale their teams, on demand.', url='https://t.co/INi8yIMbBZ', entities={'url': {'urls': [{'url': 'https://t.co/INi8yIMbBZ', 'expanded_url': 'https://www.toptal.com/', 'display_url': 'toptal.com', 'indices': [0, 23]}]}, 'description': {'urls': []}}, protected=False, followers_count=149163, friends_count=2834, listed_count=715, created_at=datetime.datetime(2011, 12, 21, 4, 5, 27), favourites_count=5326, utc_offset=None, time_zone=None, geo_enabled=False, verified=True, statuses_count=5209, lang=None, contributors_enabled=False, is_translator=False, is_translation_enabled=False, profile_background_color='131516', profile_background_image_url='http://abs.twimg.com/images/themes/theme14/bg.gif', profile_background_image_url_https='https://abs.twimg.com/images/themes/theme14/bg.gif', profile_background_tile=True, profile_image_url='http://pbs.twimg.com/profile_images/1221787302491557890/WjQToOzJ_normal.png', profile_image_url_https='https://pbs.twimg.com/profile_images/1221787302491557890/WjQToOzJ_normal.png', profile_banner_url='https://pbs.twimg.com/profile_banners/442449363/1614775185', profile_link_color='009999', profile_sidebar_border_color='EEEEEE', profile_sidebar_fill_color='EFEFEF', profile_text_color='333333', profile_use_background_image=True, has_extended_profile=False, default_profile=False, default_profile_image=False, following=False, follow_request_sent=False, notifications=False, translator_type='none', withheld_in_countries=[]), user=User(_api=<tweepy.api.API object at 0x7f6ee5750690>, _json={'id': 442449363, 'id_str': '442449363', 'name': 'Toptal', 'screen_name': 'toptal', 'location': 'San Francisco, CA', 'description': 'Toptal is a network of the world’s top talent in business, design, and technology that enables companies to scale their teams, on demand.', 'url': 'https://t.co/INi8yIMbBZ', 'entities': {'url': {'urls': [{'url': 'https://t.co/INi8yIMbBZ', 'expanded_url': 'https://www.toptal.com/', 'display_url': 'toptal.com', 'indices': [0, 23]}]}, 'description': {'urls': []}}, 'protected': False, 'followers_count': 149163, 'friends_count': 2834, 'listed_count': 715, 'created_at': 'Wed Dec 21 04:05:27 +0000 2011', 'favourites_count': 5326, 'utc_offset': None, 'time_zone': None, 'geo_enabled': False, 'verified': True, 'statuses_count': 5209, 'lang': None, 'contributors_enabled': False, 'is_translator': False, 'is_translation_enabled': False, 'profile_background_color': '131516', 'profile_background_image_url': 'http://abs.twimg.com/images/themes/theme14/bg.gif', 'profile_background_image_url_https': 'https://abs.twimg.com/images/themes/theme14/bg.gif', 'profile_background_tile': True, 'profile_image_url': 'http://pbs.twimg.com/profile_images/1221787302491557890/WjQToOzJ_normal.png', 'profile_image_url_https': 'https://pbs.twimg.com/profile_images/1221787302491557890/WjQToOzJ_normal.png', 'profile_banner_url': 'https://pbs.twimg.com/profile_banners/442449363/1614775185', 'profile_link_color': '009999', 'profile_sidebar_border_color': 'EEEEEE', 'profile_sidebar_fill_color': 'EFEFEF', 'profile_text_color': '333333', 'profile_use_background_image': True, 'has_extended_profile': False, 'default_profile': False, 'default_profile_image': False, 'following': False, 'follow_request_sent': False, 'notifications': False, 'translator_type': 'none', 'withheld_in_countries': []}, id=442449363, id_str='442449363', name='Toptal', screen_name='toptal', location='San Francisco, CA', description='Toptal is a network of the world’s top talent in business, design, and technology that enables companies to scale their teams, on demand.', url='https://t.co/INi8yIMbBZ', entities={'url': {'urls': [{'url': 'https://t.co/INi8yIMbBZ', 'expanded_url': 'https://www.toptal.com/', 'display_url': 'toptal.com', 'indices': [0, 23]}]}, 'description': {'urls': []}}, protected=False, followers_count=149163, friends_count=2834, listed_count=715, created_at=datetime.datetime(2011, 12, 21, 4, 5, 27), favourites_count=5326, utc_offset=None, time_zone=None, geo_enabled=False, verified=True, statuses_count=5209, lang=None, contributors_enabled=False, is_translator=False, is_translation_enabled=False, profile_background_color='131516', profile_background_image_url='http://abs.twimg.com/images/themes/theme14/bg.gif', profile_background_image_url_https='https://abs.twimg.com/images/themes/theme14/bg.gif', profile_background_tile=True, profile_image_url='http://pbs.twimg.com/profile_images/1221787302491557890/WjQToOzJ_normal.png', profile_image_url_https='https://pbs.twimg.com/profile_images/1221787302491557890/WjQToOzJ_normal.png', profile_banner_url='https://pbs.twimg.com/profile_banners/442449363/1614775185', profile_link_color='009999', profile_sidebar_border_color='EEEEEE', profile_sidebar_fill_color='EFEFEF', profile_text_color='333333', profile_use_background_image=True, has_extended_profile=False, default_profile=False, default_profile_image=False, following=False, follow_request_sent=False, notifications=False, translator_type='none', withheld_in_countries=[]), geo=None, coordinates=None, place=None, contributors=None, is_quote_status=False, retweet_count=5, favorite_count=51, favorited=False, retweeted=False, possibly_sensitive=False, lang='en'), is_quote_status=False, retweet_count=5, favorite_count=0, favorited=False, retweeted=False, lang='en'), Status(_api=<tweepy.api.API object at 0x7f6ee5750690>, _json={'created_at': 'Mon Dec 13 06:21:44 +0000 2021', 'id': 1470277740536340483, 'id_str': '1470277740536340483', 'full_text': '@karirfess Turing, toptal', 'truncated': False, 'display_text_range': [11, 25], 'entities': {'hashtags': [], 'symbols': [], 'user_mentions': [{'screen_name': 'karirfess', 'name': '💼 KARIRFESS | ON ⚡', 'id': 1314840619378896896, 'id_str': '1314840619378896896', 'indices': [0, 10]}], 'urls': []}, 'metadata': {'iso_language_code': 'en', 'result_type': 'recent'}, 'source': '<a href=\"http://twitter.com/download/android\" rel=\"nofollow\">Twitter for Android</a>', 'in_reply_to_status_id': 1470277547342532609, 'in_reply_to_status_id_str': '1470277547342532609', 'in_reply_to_user_id': 1314840619378896896, 'in_reply_to_user_id_str': '1314840619378896896', 'in_reply_to_screen_name': 'karirfess', 'user': {'id': 1296540414288125952, 'id_str': '1296540414288125952', 'name': 'tempat dimana bersenda gurau', 'screen_name': 'melepaskankamu', 'location': '', 'description': 'ga open minded,\\n\\ntidak menerima pemikiran feminis atau she/her, karena gak guna untuk saya pikirkan', 'url': None, 'entities': {'description': {'urls': []}}, 'protected': False, 'followers_count': 70, 'friends_count': 329, 'listed_count': 0, 'created_at': 'Thu Aug 20 20:11:44 +0000 2020', 'favourites_count': 1123, 'utc_offset': None, 'time_zone': None, 'geo_enabled': True, 'verified': False, 'statuses_count': 14699, 'lang': None, 'contributors_enabled': False, 'is_translator': False, 'is_translation_enabled': False, 'profile_background_color': 'F5F8FA', 'profile_background_image_url': None, 'profile_background_image_url_https': None, 'profile_background_tile': False, 'profile_image_url': 'http://pbs.twimg.com/profile_images/1351920607126978563/YuSUuIH5_normal.jpg', 'profile_image_url_https': 'https://pbs.twimg.com/profile_images/1351920607126978563/YuSUuIH5_normal.jpg', 'profile_link_color': '1DA1F2', 'profile_sidebar_border_color': 'C0DEED', 'profile_sidebar_fill_color': 'DDEEF6', 'profile_text_color': '333333', 'profile_use_background_image': True, 'has_extended_profile': True, 'default_profile': True, 'default_profile_image': False, 'following': False, 'follow_request_sent': False, 'notifications': False, 'translator_type': 'none', 'withheld_in_countries': []}, 'geo': None, 'coordinates': None, 'place': None, 'contributors': None, 'is_quote_status': False, 'retweet_count': 0, 'favorite_count': 0, 'favorited': False, 'retweeted': False, 'lang': 'en'}, created_at=datetime.datetime(2021, 12, 13, 6, 21, 44), id=1470277740536340483, id_str='1470277740536340483', full_text='@karirfess Turing, toptal', truncated=False, display_text_range=[11, 25], entities={'hashtags': [], 'symbols': [], 'user_mentions': [{'screen_name': 'karirfess', 'name': '💼 KARIRFESS | ON ⚡', 'id': 1314840619378896896, 'id_str': '1314840619378896896', 'indices': [0, 10]}], 'urls': []}, metadata={'iso_language_code': 'en', 'result_type': 'recent'}, source='Twitter for Android', source_url='http://twitter.com/download/android', in_reply_to_status_id=1470277547342532609, in_reply_to_status_id_str='1470277547342532609', in_reply_to_user_id=1314840619378896896, in_reply_to_user_id_str='1314840619378896896', in_reply_to_screen_name='karirfess', author=User(_api=<tweepy.api.API object at 0x7f6ee5750690>, _json={'id': 1296540414288125952, 'id_str': '1296540414288125952', 'name': 'tempat dimana bersenda gurau', 'screen_name': 'melepaskankamu', 'location': '', 'description': 'ga open minded,\\n\\ntidak menerima pemikiran feminis atau she/her, karena gak guna untuk saya pikirkan', 'url': None, 'entities': {'description': {'urls': []}}, 'protected': False, 'followers_count': 70, 'friends_count': 329, 'listed_count': 0, 'created_at': 'Thu Aug 20 20:11:44 +0000 2020', 'favourites_count': 1123, 'utc_offset': None, 'time_zone': None, 'geo_enabled': True, 'verified': False, 'statuses_count': 14699, 'lang': None, 'contributors_enabled': False, 'is_translator': False, 'is_translation_enabled': False, 'profile_background_color': 'F5F8FA', 'profile_background_image_url': None, 'profile_background_image_url_https': None, 'profile_background_tile': False, 'profile_image_url': 'http://pbs.twimg.com/profile_images/1351920607126978563/YuSUuIH5_normal.jpg', 'profile_image_url_https': 'https://pbs.twimg.com/profile_images/1351920607126978563/YuSUuIH5_normal.jpg', 'profile_link_color': '1DA1F2', 'profile_sidebar_border_color': 'C0DEED', 'profile_sidebar_fill_color': 'DDEEF6', 'profile_text_color': '333333', 'profile_use_background_image': True, 'has_extended_profile': True, 'default_profile': True, 'default_profile_image': False, 'following': False, 'follow_request_sent': False, 'notifications': False, 'translator_type': 'none', 'withheld_in_countries': []}, id=1296540414288125952, id_str='1296540414288125952', name='tempat dimana bersenda gurau', screen_name='melepaskankamu', location='', description='ga open minded,\\n\\ntidak menerima pemikiran feminis atau she/her, karena gak guna untuk saya pikirkan', url=None, entities={'description': {'urls': []}}, protected=False, followers_count=70, friends_count=329, listed_count=0, created_at=datetime.datetime(2020, 8, 20, 20, 11, 44), favourites_count=1123, utc_offset=None, time_zone=None, geo_enabled=True, verified=False, statuses_count=14699, lang=None, contributors_enabled=False, is_translator=False, is_translation_enabled=False, profile_background_color='F5F8FA', profile_background_image_url=None, profile_background_image_url_https=None, profile_background_tile=False, profile_image_url='http://pbs.twimg.com/profile_images/1351920607126978563/YuSUuIH5_normal.jpg', profile_image_url_https='https://pbs.twimg.com/profile_images/1351920607126978563/YuSUuIH5_normal.jpg', profile_link_color='1DA1F2', profile_sidebar_border_color='C0DEED', profile_sidebar_fill_color='DDEEF6', profile_text_color='333333', profile_use_background_image=True, has_extended_profile=True, default_profile=True, default_profile_image=False, following=False, follow_request_sent=False, notifications=False, translator_type='none', withheld_in_countries=[]), user=User(_api=<tweepy.api.API object at 0x7f6ee5750690>, _json={'id': 1296540414288125952, 'id_str': '1296540414288125952', 'name': 'tempat dimana bersenda gurau', 'screen_name': 'melepaskankamu', 'location': '', 'description': 'ga open minded,\\n\\ntidak menerima pemikiran feminis atau she/her, karena gak guna untuk saya pikirkan', 'url': None, 'entities': {'description': {'urls': []}}, 'protected': False, 'followers_count': 70, 'friends_count': 329, 'listed_count': 0, 'created_at': 'Thu Aug 20 20:11:44 +0000 2020', 'favourites_count': 1123, 'utc_offset': None, 'time_zone': None, 'geo_enabled': True, 'verified': False, 'statuses_count': 14699, 'lang': None, 'contributors_enabled': False, 'is_translator': False, 'is_translation_enabled': False, 'profile_background_color': 'F5F8FA', 'profile_background_image_url': None, 'profile_background_image_url_https': None, 'profile_background_tile': False, 'profile_image_url': 'http://pbs.twimg.com/profile_images/1351920607126978563/YuSUuIH5_normal.jpg', 'profile_image_url_https': 'https://pbs.twimg.com/profile_images/1351920607126978563/YuSUuIH5_normal.jpg', 'profile_link_color': '1DA1F2', 'profile_sidebar_border_color': 'C0DEED', 'profile_sidebar_fill_color': 'DDEEF6', 'profile_text_color': '333333', 'profile_use_background_image': True, 'has_extended_profile': True, 'default_profile': True, 'default_profile_image': False, 'following': False, 'follow_request_sent': False, 'notifications': False, 'translator_type': 'none', 'withheld_in_countries': []}, id=1296540414288125952, id_str='1296540414288125952', name='tempat dimana bersenda gurau', screen_name='melepaskankamu', location='', description='ga open minded,\\n\\ntidak menerima pemikiran feminis atau she/her, karena gak guna untuk saya pikirkan', url=None, entities={'description': {'urls': []}}, protected=False, followers_count=70, friends_count=329, listed_count=0, created_at=datetime.datetime(2020, 8, 20, 20, 11, 44), favourites_count=1123, utc_offset=None, time_zone=None, geo_enabled=True, verified=False, statuses_count=14699, lang=None, contributors_enabled=False, is_translator=False, is_translation_enabled=False, profile_background_color='F5F8FA', profile_background_image_url=None, profile_background_image_url_https=None, profile_background_tile=False, profile_image_url='http://pbs.twimg.com/profile_images/1351920607126978563/YuSUuIH5_normal.jpg', profile_image_url_https='https://pbs.twimg.com/profile_images/1351920607126978563/YuSUuIH5_normal.jpg', profile_link_color='1DA1F2', profile_sidebar_border_color='C0DEED', profile_sidebar_fill_color='DDEEF6', profile_text_color='333333', profile_use_background_image=True, has_extended_profile=True, default_profile=True, default_profile_image=False, following=False, follow_request_sent=False, notifications=False, translator_type='none', withheld_in_countries=[]), geo=None, coordinates=None, place=None, contributors=None, is_quote_status=False, retweet_count=0, favorite_count=0, favorited=False, retweeted=False, lang='en')]\n"
     ]
    }
   ],
   "source": [
    "api=tweepy.API(auth)\n",
    "results=api.search(q=query,lang=language,count=1000,result_type='mixed',include_entities=True,tweet_mode='extended')\n",
    "print(results[0:2])"
   ]
  },
  {
   "cell_type": "code",
   "execution_count": null,
   "metadata": {
    "id": "_gU1rPLjwnzK"
   },
   "outputs": [],
   "source": [
    "rough=\"\"\n",
    "for tweets in results:\n",
    "    if not tweets.retweeted:\n",
    "        try:\n",
    "            rough+=tweets.tweeted_status.full_text\n",
    "        except AttributeError:\n",
    "            rough+=tweets.full_text\n",
    "    else:\n",
    "        continue"
   ]
  },
  {
   "cell_type": "code",
   "execution_count": null,
   "metadata": {
    "colab": {
     "base_uri": "https://localhost:8080/",
     "height": 126
    },
    "id": "_X9QAKvUwy56",
    "outputId": "33ae7c44-3b98-486a-aa3d-5256eb9e73d6"
   },
   "outputs": [
    {
     "data": {
      "application/vnd.google.colaboratory.intrinsic+json": {
       "type": "string"
      },
      "text/plain": [
       "'RT @toptal: During COVID-19, @ATT revamped its benefits and policies to be more flexible and family-friendly. Angela Santone, @ATT’s Senior…@karirfess Turing, toptalRT @OlamideTowobola: Top freelance marketplace dedicated to helping professionals like yourself find work.\\n\\n1. Guru\\n2. Fiverr \\n3. Nexxt\\n4.…Senior Copywriter\\nfrom Toptal\\n#Writing #remotework\\nhttps://t.co/Qwad4VZcJT“If I had asked people what they wanted, they would have said faster horses.” - Henry Ford https://t.co/jIM7jzMjtN #UserResearch #UXDesign #ProductDesignIn the Spotlight – the Principles of Dark UI Design | Toptal https://t.co/eI6N9hEE4oLooking for logo design https://t.co/BqjN3kbhMo\\n.\\n#Fiverr\\n#Upwork\\n#Toptal\\n#Freelancer.com\\n#Behance\\n#ServiceScape\\n#DesignHill\\n#TaskRabbit\\n#Guru\\n#LinkedIn\\n#Flexjobs\\n#PeoplePerHour\\n#SimplyHired\\n#Dribbble\\n#AngelList\\n#YunoJuno\\n#DesignCrowd@edude03 @stevefoxwrites Yep, https://t.co/zSPeglZEdU - works very similarly to Elixir. Although in Elixir I can do:\\n\\ncase \"fooBar\" do\\n  \"foo\" &lt;&gt; rest -&gt;\\n      # rest contains \"Bar\" here\\nend@biffbaxter @MalwareJake I say this as someone who ignores these particular ads. But if you\\'re good at doing dev and are in an area that\\'s well below the global market for positions you can easily get at, being on the supply side of Toptal, Turing, etc. can be worth it.Senior Copywriter\\nfrom Toptal\\n#Writing #jobSearch\\nhttps://t.co/f5ch5MR7MqRecently every youtube video ad is this \\'Toptal freelancer\\' and I really bored of this ad. I don\\'t know what the fuck this toptal shit but I\\'m sure I\\'m never ever going to use thanks the lots of ad.Namaskaram,\\n\\nThank you @toptal, Pankaj Batra, Rajeev Gupta for Toptal Delhi Meet today.\\xa0\\n\\nIt\\'s an honor to meet, interact &amp; share ideas with highly talented &amp; experienced Top Talent of India. Enjoyed &amp; learnt a lot from this event.\\xa0\\n\\n#toptal #talent #freelancing https://t.co/CZXeEZBvqt@toptal #MOBI is up 70% since yesterday when i bought!!\\n\\ndownload #lobstr wallet and buy\\n#xlm #defiFreelance Jobs\\n\\nYour Definitive Guide https://t.co/gQiX3APTTL\\n\\n#FreelanceJobs #Freelance #Jobs #Freelancer #Portfolio #Upwork #Toptal #Offline https://t.co/ziOu5DeuFERT @VladPasca5: 10 freelance websites to find work as a beginner:\\n\\n1. Freelancer\\n2. People Per Hour\\n3. Dribbble\\n4. Fiverr\\n5. Upwork\\n6. Guru…RT @toptal: Throughout the pandemic, grocery store workers have been frontline employees. Mike Theilmann, CHRO of US food and drug retailer…RT @toptal: This one\\'s for all the engineering managers out there. Watch our on-demand webinar to learn the strategies you\\'ll need to help…RT @toptal: How does a leading meditation and wellness company protect its own employees from burnout? Scott Domann, Chief People Officer o…RT @toptal: Before you build something great, you need to build a great team. Watch our on-demand webinar for expert insights on growing gr…RT @toptal: As a top provider of AWS talent, we\\'re excited to be at @AWSreInvent. Come meet us at booth 1326, and register to join us for a…RT @VladPasca5: 10 freelance websites to find work as a beginner:\\n\\n1. Freelancer\\n2. People Per Hour\\n3. Dribbble\\n4. Fiverr\\n5. Upwork\\n6. Guru…B.\\nThere are 37 Javascript quality questions and if you want to hire a javascript developer then you can check out this website. \\n\\nhttps://t.co/pI8BX2hC36For those who are aiming to join talent-matching platforms like TopTal, Turing, Andela, etc, I am going to giving tips and lessons/weekend preps.. Tech workers should watch this spaceRT @GloryDogeCoin: We are happy to announce that through https://t.co/S6bX3PDEtj we have hired a Senior Blockchain Developer and Senior UI/…RT @toptal: During COVID-19, @ATT revamped its benefits and policies to be more flexible and family-friendly. Angela Santone, @ATT’s Senior…@toptal @ATT D Tedros on OMICRON: Is it contagious?Is it a killer? Does vaccine stop it? What sym does it show? What\\'s your advise? Answer:Don\\'t know to all.WHO lead by D Ted\\'s chasing Z virus from behind. We need scientists researching ahead &amp; tackling virus up front, No politician. #NoMoreRT @devnull: Mi top 10 de sitios para encontrar trabajo remoto como Developer (Todos los niveles) 👨🏻\\u200d💻\\n\\n💰 angel .co\\n💰 remoteok .io\\n💰 remoti…HR - one of the most hated and useless functions in any company. https://t.co/YLkWA1hMMT@toptal @ATT Pity you didn\\'t take care of democracy when you backed oan!Real-world examples from Gensler, the architecture and design firm known for creating innovative workspace. @toptal https://t.co/S85pWkdwWf https://t.co/olKLfEEbGmRT @JoonEbube: Other places you can get jobs using the skill include:\\n\\nhttps://t.co/aJuYUr3Cz9\\nhttps://t.co/KE8zgD7V4i\\nhttps://t.co/q8xWome…RT @AARPKNIGHT: @cryptoAprille asked what if we have our own blockchain.....\\n\\nTake it a step further:\\n\\nWhat if #nobilitytoken s blockchain…Open source web app built with .net core and c# by @jozefizso. \"https://t.co/yvEnPugtpH website was inspired by the https://t.co/y4JqYBOjF6 project.Easily create new .gitattribute files. The web provides easy to use https://t.co/EnDDCSYDYl\\'s a small…\" https://t.co/sDAwmp3YVGRT @AARPKNIGHT: @cryptoAprille asked what if we have our own blockchain.....\\n\\nTake it a step further:\\n\\nWhat if #nobilitytoken s blockchain…@cryptoAprille asked what if we have our own blockchain.....\\n\\nTake it a step further:\\n\\nWhat if #nobilitytoken s blockchain is at the forefront of creating blockchain gaming?  Just conjecture.\\n\\nRead this article. #esports + more!\\n\\nhttps://t.co/xUV24lbOejRT @IAyeshaSahar: 17 Freelance Websites to Find Work in 2021🔥\\n\\n🔷Fiverr\\n🔷Upwork\\n🔷Toptal\\n🔷Freelancer. com\\n🔷Behance\\n🔷ServiceScape\\n🔷DesignHill…@cesilvam Hi Carlos! I was actually looking into UX copywriting the other day and found this awesome article about it. If you make up a fake company/products, you can write what this article talks about and include those samples in your portfolio 🙂 https://t.co/Wo9fdqgrHZRT @toptal: A #hybrid workforce needs an office space designed for the #futureofwork. See four examples of spaces designed for better colla…And at the same time bankrolled racist, anti-democratic broadcast channels. \\nCaring for whom? https://t.co/CPJ7zuOWiCRT @ivybarley: Websites to find your next remote job:\\n\\nhttps://t.co/0VP8Wq1AWS\\nhttps://t.co/OidLOvRBNw\\nhttps://t.co/cFjxVNqr1L\\nhttps://t.co…Toptal is \\u200b\\u200blooking for a Senior Android Developer. \\nIf you need a job then see this opportunity.\\n#Toptal #Developer #remotework #remotejobs #wfh \\nhttps://t.co/6TwxmGO3TMToptal is \\u200b\\u200blooking for a Senior Go Developer. \\nIf you need a job then see this opportunity.\\n#Toptal #Developer #remotework #remotejobs #wfh \\nhttps://t.co/OCEZFyrIq7Toptal is \\u200b\\u200blooking for a Senior React Native Developer. \\nIf you need a job then see this opportunity.\\n#Toptal #Developer #remotework #remotejobs #wfh \\nhttps://t.co/pIgU9a8DO3On the topic of \"GameSetup.exe\", if you\\'re interested in deobfuscating I\\'ve given two versions below.\\n\\nminified: https://t.co/QnH1v1KVHc\\n\\nsomewhat beautified(I didn\\'t try too hard):\\nhttps://t.co/bNxM0CSdyFRT @IAyeshaSahar: 17 Freelance Websites to Find Work in 2021🔥\\n\\n🔷Fiverr\\n🔷Upwork\\n🔷Toptal\\n🔷Freelancer. com\\n🔷Behance\\n🔷ServiceScape\\n🔷DesignHill…Senior Writer for Future of Work\\nfrom Toptal\\n#Writing #remoteworking\\nhttps://t.co/tim46dmRhkRT @vponamariov: 1️⃣ The Role of Color in UX\\n\\nhttps://t.co/4Nbsjz97ZGRT @sunilc_: My top 5 Freelancing Platforms:\\n\\n- Codementor\\n- Upwork\\n- Freelancer\\n- Toptal\\n- PeoplePerHourA very good read.\\n\\n#engineeringmanagement #engineering https://t.co/P1f6oVXsgyToptal is hiring remote for the following roles:\\n\\n👉 Senior Blockchain Developer\\n👉 Senior React Developer\\n\\nApply now 👇\\nhttps://t.co/ZZDjbvG4TQ\\n#remotework #remotejobsRT @IAyeshaSahar: 17 Freelance Websites to Find Work in 2021🔥\\n\\n🔷Fiverr\\n🔷Upwork\\n🔷Toptal\\n🔷Freelancer. com\\n🔷Behance\\n🔷ServiceScape\\n🔷DesignHill…RT @IAyeshaSahar: 17 Freelance Websites to Find Work in 2021🔥\\n\\n🔷Fiverr\\n🔷Upwork\\n🔷Toptal\\n🔷Freelancer. com\\n🔷Behance\\n🔷ServiceScape\\n🔷DesignHill…RT @IAyeshaSahar: 17 Freelance Websites to Find Work in 2021🔥\\n\\n🔷Fiverr\\n🔷Upwork\\n🔷Toptal\\n🔷Freelancer. com\\n🔷Behance\\n🔷ServiceScape\\n🔷DesignHill…RT @IAyeshaSahar: 17 Freelance Websites to Find Work in 2021🔥\\n\\n🔷Fiverr\\n🔷Upwork\\n🔷Toptal\\n🔷Freelancer. com\\n🔷Behance\\n🔷ServiceScape\\n🔷DesignHill…RT @IAyeshaSahar: 17 Freelance Websites to Find Work in 2021🔥\\n\\n🔷Fiverr\\n🔷Upwork\\n🔷Toptal\\n🔷Freelancer. com\\n🔷Behance\\n🔷ServiceScape\\n🔷DesignHill…@toptal @ATT you are fired@ishverduzco @Collab_Land_ Awesome! FWIW I *think* most people that do this outside discord are using a custom metamask authentication landing page, which works on mobile so could in theory be used irl? https://t.co/3jk3IsEjsG✨ Remote startup @toptal is hiring a Senior React Native Developer (💰~$175k, Worldwide) #remotework #remotejobs #wfh 👇 https://t.co/xjgGbIQarz✨ @toptal is looking for a Remote Senior Android Developer (💰~$175k, Worldwide) #remotework #remotejobs #wfh 👇 https://t.co/mWOqssjVyw✨ Want to work remotely as a Senior Ruby On Rails Developer (💰~$175k, Worldwide) at @toptal? #remotework #remotejobs #wfh 👇 https://t.co/kps88Jgoeb✨ @toptal is looking for a Senior Go Developer (💰~$175k, Worldwide) remotely  #remotework #remotejobs #wfh 👇 https://t.co/r6ORzqHfgTRT @devnull: Mi top 10 de sitios para encontrar trabajo remoto como Developer (Todos los niveles) 👨🏻\\u200d💻\\n\\n💰 angel .co\\n💰 remoteok .io\\n💰 remoti…@toptal Pure hyperbole, Toptal. It has not been suddenly and it’s definitely not everyone. That  undermines your pitch, which doesn’t include your value proposition. You can do better.1️⃣ The Role of Color in UX\\n\\nhttps://t.co/4Nbsjz97ZG@TheMoonCarl Burn your money insteadRT @akbarth3great: #algorithms #python #caterpillar #toptal #codility Codility Algorithm Practice Lesson 15: Caterpillar Method, Task 2: Co…RT @akbarth3great: #algorithms #python #caterpillar #toptal #codility Codility Algorithm Practice Lesson 15: Caterpillar Method, Task 2: Co…RT @akbarth3great: #algorithms #python #caterpillar #toptal #codility Codility Algorithm Practice Lesson 15: Caterpillar Method, Task 2: Co…#algorithms #python #caterpillar #toptal #codility Codility Algorithm Practice Lesson 15: Caterpillar Method, Task 2: CountDistinctSlices— a Python… https://t.co/sMXeRhjnKrRT @marianogoren: Graph Data Science With Python/NetworkX https://t.co/9YxEvR3WXA #ux #product #design https://t.co/ur1oQS3XuaRT @marianogoren: Graph Data Science With Python/NetworkX https://t.co/9YxEvR3WXA #ux #product #design https://t.co/ur1oQS3XuaRT @marianogoren: Graph Data Science With Python/NetworkX https://t.co/9YxEvR3WXA #ux #product #design https://t.co/ur1oQS3XuaGraph Data Science With Python/NetworkX https://t.co/9YxEvR3WXA #ux #product #design https://t.co/ur1oQS3XuaCheck out this Holiday 2021 Planning Guide about Trends &amp; Predictions for Ecommerce Fulfillment. Get the latest e-commerce fulfillment strategies that enable a smooth holiday season.\\n\\n#dclcorp #holiday #ecommercetrends #ecommerce \\nhttps://t.co/DsJWd7Hpf2RT @devnull: Mi top 10 de sitios para encontrar trabajo remoto como Developer (Todos los niveles) 👨🏻\\u200d💻\\n\\n💰 angel .co\\n💰 remoteok .io\\n💰 remoti…Co-Founder &amp; CEO of @Toptal Taso Du Val to business leaders: \"If you want to embrace remote work and hire talent anywhere, you need the infrastructure\" and to have strong talent pipelines globally. #MetisStrategySymposium https://t.co/oWl24MId1kTaso Du Val, Co-Founder &amp; CEO of @Toptal, speaks to how being intentional about building culture and relating values to actions has allowed the company to succeed in a #virtual setting since its inception. #MetisStrategySymposium https://t.co/ZECwbkD2YrRT @toptal: A #hybrid workforce needs an office space designed for the #futureofwork. See four examples of spaces designed for better colla…A #hybrid workforce needs an office space designed for the #futureofwork. See four examples of spaces designed for better collaboration from architect Eric Gannon, a partner at @gensler_design. https://t.co/JRwLeFVU9c@toptal @ATT @ATT funded @OANN@toptal @ATT Doesn’t AT&amp;T fund the anti democracy @OANN ?\\nPlease confirm.RT @toptal: Leading effectively in the new hybrid work environment is a serious challenge. For expert insights and ideas on the topic, watc…@AGarnero How would this apply to highly skilled gig economy free traders? Like coders or data scientists that use platforms like @toptal to get jobs?Toptal is \\u200b\\u200blooking for a Full Stack Engineer. \\nIf you need a job then see this opportunity.\\n#Toptal #Engineer #remotework #remotejobs #wfh \\nhttps://t.co/0f1f7AUgMORT @Danishyousufmir: My top 5 Freelancing Platforms:\\n\\n- Codementor\\n- Upwork\\n- Freelancer\\n- Toptal\\n- PeoplePerHour\\n\\n#100DaysOfCodeRT @dancroghan: As the workforce continues to shift in the current environment, PwC’s People &amp; Organization Joint Leader, Bhushan Sethi sha…RT @Danishyousufmir: My top 5 Freelancing Platforms:\\n\\n- Codementor\\n- Upwork\\n- Freelancer\\n- Toptal\\n- PeoplePerHour\\n\\n#100DaysOfCodeRT @Danishyousufmir: My top 5 Freelancing Platforms:\\n\\n- Codementor\\n- Upwork\\n- Freelancer\\n- Toptal\\n- PeoplePerHour\\n\\n#100DaysOfCodeRT @devnull: Mi top 10 de sitios para encontrar trabajo remoto como Developer (Todos los niveles) 👨🏻\\u200d💻\\n\\n💰 angel .co\\n💰 remoteok .io\\n💰 remoti…RT @Momentswithbren: 🧨https://github .com/yanirs/established-remote\\n♣️meerkad .com\\n♦️Behance\\n♟HackerNews\\n🎲Facebook groups\\n🧿Staff .com\\n🎨Topt…RT @techoregon: This @pocintech article by @AbbiancaMak highlights online communities every #engineer &amp; #webdeveloper of color should sign…My top 5 Freelancing Platforms:\\n\\n- Codementor\\n- Upwork\\n- Freelancer\\n- Toptal\\n- PeoplePerHour\\n\\n#100DaysOfCode@hachakson Toptal?Senior Recruiter  Toptal, LLC 4-8 years https://t.co/DZal04fqt2RT @flippen6485: Thanks to @austingriffith for the many wonderful scaffold-eth components I used.\\n\\nThanks to @ensdomains for creating the b…@toptal what have you heard about @goldefy_ ?\\n\\ngoldefy is the first decentralized blockchain-based mining game where you can buy nft characters and nft estate, enjoy pvp battle, mine gold and gems for actual profit.\\n\\nthese dudes are actually in it for greatness.RT @GloryDogeCoin: We are happy to announce that through https://t.co/S6bX3PDEtj we have hired a Senior Blockchain Developer and Senior UI/…@sullof https://t.co/3eZwbraMLH \\n\\nEXPOSED@toptal @ATT Seems they also found the time to get far-right propaganda outfit OANN off the ground, too. Seriously, @ATT what the hell were you thinking? They rabidly oppose 5-G, vaccines, etc...oh, and then there’s the whole “bring down the country” bit, isn’t there? https://t.co/lVzd0bLqg6RT @DroneRaceLeague: 🔴WATCH LIVE: Drone Racing League continues tonight at 8pm ET on the U.S. Air Force Boneyard Night Mode Map @USAFrecrui…'"
      ]
     },
     "execution_count": 39,
     "metadata": {},
     "output_type": "execute_result"
    }
   ],
   "source": [
    "rough"
   ]
  },
  {
   "cell_type": "code",
   "execution_count": null,
   "metadata": {
    "id": "EWKl8wyzw6Rl"
   },
   "outputs": [],
   "source": [
    "columns = set()\n",
    "allowed_types = [str,int]\n",
    "tweets_data = []\n",
    "for status in results:\n",
    "    status_dict = dict(vars(status))\n",
    "    keys = status_dict.keys()\n",
    "    single_tweet_data = {}\n",
    "    for k in keys:\n",
    "        try:\n",
    "            v_type = type(status_dict[k])\n",
    "        except:\n",
    "            v_type = None\n",
    "            \n",
    "        if v_type != None:\n",
    "            \n",
    "            if v_type in allowed_types:\n",
    "                single_tweet_data[k] = status_dict[k]   \n",
    "                columns.add(k)\n",
    "    tweets_data.append(single_tweet_data)"
   ]
  },
  {
   "cell_type": "code",
   "execution_count": null,
   "metadata": {
    "colab": {
     "base_uri": "https://localhost:8080/"
    },
    "id": "mln78P4Ew-71",
    "outputId": "5a9f457f-8727-4483-c331-2cd6881ac496"
   },
   "outputs": [
    {
     "data": {
      "text/plain": [
       "[{'favorite_count': 0,\n",
       "  'full_text': 'RT @toptal: During COVID-19, @ATT revamped its benefits and policies to be more flexible and family-friendly. Angela Santone, @ATT’s Senior…',\n",
       "  'id': 1470282219822325763,\n",
       "  'id_str': '1470282219822325763',\n",
       "  'lang': 'en',\n",
       "  'retweet_count': 5,\n",
       "  'source': 'Twitter for Android',\n",
       "  'source_url': 'http://twitter.com/download/android'},\n",
       " {'favorite_count': 0,\n",
       "  'full_text': '@karirfess Turing, toptal',\n",
       "  'id': 1470277740536340483,\n",
       "  'id_str': '1470277740536340483',\n",
       "  'in_reply_to_screen_name': 'karirfess',\n",
       "  'in_reply_to_status_id': 1470277547342532609,\n",
       "  'in_reply_to_status_id_str': '1470277547342532609',\n",
       "  'in_reply_to_user_id': 1314840619378896896,\n",
       "  'in_reply_to_user_id_str': '1314840619378896896',\n",
       "  'lang': 'en',\n",
       "  'retweet_count': 0,\n",
       "  'source': 'Twitter for Android',\n",
       "  'source_url': 'http://twitter.com/download/android'},\n",
       " {'favorite_count': 0,\n",
       "  'full_text': 'RT @OlamideTowobola: Top freelance marketplace dedicated to helping professionals like yourself find work.\\n\\n1. Guru\\n2. Fiverr \\n3. Nexxt\\n4.…',\n",
       "  'id': 1470221575194566656,\n",
       "  'id_str': '1470221575194566656',\n",
       "  'lang': 'en',\n",
       "  'retweet_count': 61,\n",
       "  'source': 'Twitter for iPhone',\n",
       "  'source_url': 'http://twitter.com/download/iphone'}]"
      ]
     },
     "execution_count": 41,
     "metadata": {},
     "output_type": "execute_result"
    }
   ],
   "source": [
    "tweets_data[0:3]"
   ]
  },
  {
   "cell_type": "code",
   "execution_count": null,
   "metadata": {
    "id": "cMm1ek15xKEF"
   },
   "outputs": [],
   "source": [
    "df=pd.DataFrame(tweets_data)"
   ]
  },
  {
   "cell_type": "code",
   "execution_count": null,
   "metadata": {
    "colab": {
     "base_uri": "https://localhost:8080/",
     "height": 417
    },
    "id": "1jYmP4Thw_C6",
    "outputId": "7a9047f9-c985-4627-a651-5e8b728438b0"
   },
   "outputs": [
    {
     "data": {
      "text/html": [
       "<div>\n",
       "<style scoped>\n",
       "    .dataframe tbody tr th:only-of-type {\n",
       "        vertical-align: middle;\n",
       "    }\n",
       "\n",
       "    .dataframe tbody tr th {\n",
       "        vertical-align: top;\n",
       "    }\n",
       "\n",
       "    .dataframe thead th {\n",
       "        text-align: right;\n",
       "    }\n",
       "</style>\n",
       "<table border=\"1\" class=\"dataframe\">\n",
       "  <thead>\n",
       "    <tr style=\"text-align: right;\">\n",
       "      <th></th>\n",
       "      <th>id</th>\n",
       "      <th>id_str</th>\n",
       "      <th>full_text</th>\n",
       "      <th>source</th>\n",
       "      <th>source_url</th>\n",
       "      <th>retweet_count</th>\n",
       "      <th>favorite_count</th>\n",
       "      <th>lang</th>\n",
       "      <th>in_reply_to_status_id</th>\n",
       "      <th>in_reply_to_status_id_str</th>\n",
       "      <th>in_reply_to_user_id</th>\n",
       "      <th>in_reply_to_user_id_str</th>\n",
       "      <th>in_reply_to_screen_name</th>\n",
       "      <th>quoted_status_id</th>\n",
       "      <th>quoted_status_id_str</th>\n",
       "    </tr>\n",
       "  </thead>\n",
       "  <tbody>\n",
       "    <tr>\n",
       "      <th>0</th>\n",
       "      <td>1470282219822325763</td>\n",
       "      <td>1470282219822325763</td>\n",
       "      <td>RT @toptal: During COVID-19, @ATT revamped its...</td>\n",
       "      <td>Twitter for Android</td>\n",
       "      <td>http://twitter.com/download/android</td>\n",
       "      <td>5</td>\n",
       "      <td>0</td>\n",
       "      <td>en</td>\n",
       "      <td>NaN</td>\n",
       "      <td>NaN</td>\n",
       "      <td>NaN</td>\n",
       "      <td>NaN</td>\n",
       "      <td>NaN</td>\n",
       "      <td>NaN</td>\n",
       "      <td>NaN</td>\n",
       "    </tr>\n",
       "    <tr>\n",
       "      <th>1</th>\n",
       "      <td>1470277740536340483</td>\n",
       "      <td>1470277740536340483</td>\n",
       "      <td>@karirfess Turing, toptal</td>\n",
       "      <td>Twitter for Android</td>\n",
       "      <td>http://twitter.com/download/android</td>\n",
       "      <td>0</td>\n",
       "      <td>0</td>\n",
       "      <td>en</td>\n",
       "      <td>1.470278e+18</td>\n",
       "      <td>1470277547342532609</td>\n",
       "      <td>1.314841e+18</td>\n",
       "      <td>1314840619378896896</td>\n",
       "      <td>karirfess</td>\n",
       "      <td>NaN</td>\n",
       "      <td>NaN</td>\n",
       "    </tr>\n",
       "    <tr>\n",
       "      <th>2</th>\n",
       "      <td>1470221575194566656</td>\n",
       "      <td>1470221575194566656</td>\n",
       "      <td>RT @OlamideTowobola: Top freelance marketplace...</td>\n",
       "      <td>Twitter for iPhone</td>\n",
       "      <td>http://twitter.com/download/iphone</td>\n",
       "      <td>61</td>\n",
       "      <td>0</td>\n",
       "      <td>en</td>\n",
       "      <td>NaN</td>\n",
       "      <td>NaN</td>\n",
       "      <td>NaN</td>\n",
       "      <td>NaN</td>\n",
       "      <td>NaN</td>\n",
       "      <td>NaN</td>\n",
       "      <td>NaN</td>\n",
       "    </tr>\n",
       "    <tr>\n",
       "      <th>3</th>\n",
       "      <td>1470183497591574531</td>\n",
       "      <td>1470183497591574531</td>\n",
       "      <td>Senior Copywriter\\nfrom Toptal\\n#Writing #remo...</td>\n",
       "      <td>zobjobsTwitterCA</td>\n",
       "      <td>https://help.twitter.com/en/using-twitter/how-...</td>\n",
       "      <td>0</td>\n",
       "      <td>0</td>\n",
       "      <td>en</td>\n",
       "      <td>NaN</td>\n",
       "      <td>NaN</td>\n",
       "      <td>NaN</td>\n",
       "      <td>NaN</td>\n",
       "      <td>NaN</td>\n",
       "      <td>NaN</td>\n",
       "      <td>NaN</td>\n",
       "    </tr>\n",
       "    <tr>\n",
       "      <th>4</th>\n",
       "      <td>1470149539227181061</td>\n",
       "      <td>1470149539227181061</td>\n",
       "      <td>“If I had asked people what they wanted, they ...</td>\n",
       "      <td>Twitter Web App</td>\n",
       "      <td>https://mobile.twitter.com</td>\n",
       "      <td>0</td>\n",
       "      <td>0</td>\n",
       "      <td>en</td>\n",
       "      <td>NaN</td>\n",
       "      <td>NaN</td>\n",
       "      <td>NaN</td>\n",
       "      <td>NaN</td>\n",
       "      <td>NaN</td>\n",
       "      <td>NaN</td>\n",
       "      <td>NaN</td>\n",
       "    </tr>\n",
       "  </tbody>\n",
       "</table>\n",
       "</div>"
      ],
      "text/plain": [
       "                    id  ... quoted_status_id_str\n",
       "0  1470282219822325763  ...                  NaN\n",
       "1  1470277740536340483  ...                  NaN\n",
       "2  1470221575194566656  ...                  NaN\n",
       "3  1470183497591574531  ...                  NaN\n",
       "4  1470149539227181061  ...                  NaN\n",
       "\n",
       "[5 rows x 15 columns]"
      ]
     },
     "execution_count": 43,
     "metadata": {},
     "output_type": "execute_result"
    }
   ],
   "source": [
    "df.head()"
   ]
  },
  {
   "cell_type": "code",
   "execution_count": 56,
   "metadata": {
    "colab": {
     "base_uri": "https://localhost:8080/",
     "height": 417
    },
    "id": "YSO1hZX3EOaV",
    "outputId": "8b98b283-177f-4c69-f0ee-4a9a57c16b3c"
   },
   "outputs": [
    {
     "data": {
      "text/html": [
       "<div>\n",
       "<style scoped>\n",
       "    .dataframe tbody tr th:only-of-type {\n",
       "        vertical-align: middle;\n",
       "    }\n",
       "\n",
       "    .dataframe tbody tr th {\n",
       "        vertical-align: top;\n",
       "    }\n",
       "\n",
       "    .dataframe thead th {\n",
       "        text-align: right;\n",
       "    }\n",
       "</style>\n",
       "<table border=\"1\" class=\"dataframe\">\n",
       "  <thead>\n",
       "    <tr style=\"text-align: right;\">\n",
       "      <th></th>\n",
       "      <th>id</th>\n",
       "      <th>id_str</th>\n",
       "      <th>full_text</th>\n",
       "      <th>source</th>\n",
       "      <th>source_url</th>\n",
       "      <th>retweet_count</th>\n",
       "      <th>favorite_count</th>\n",
       "      <th>lang</th>\n",
       "      <th>in_reply_to_status_id</th>\n",
       "      <th>in_reply_to_status_id_str</th>\n",
       "      <th>in_reply_to_user_id</th>\n",
       "      <th>in_reply_to_user_id_str</th>\n",
       "      <th>in_reply_to_screen_name</th>\n",
       "      <th>quoted_status_id</th>\n",
       "      <th>quoted_status_id_str</th>\n",
       "    </tr>\n",
       "  </thead>\n",
       "  <tbody>\n",
       "    <tr>\n",
       "      <th>95</th>\n",
       "      <td>1468800486316908547</td>\n",
       "      <td>1468800486316908547</td>\n",
       "      <td>@toptal what have you heard about @goldefy_ ?\\...</td>\n",
       "      <td>Twitter for Android</td>\n",
       "      <td>http://twitter.com/download/android</td>\n",
       "      <td>0</td>\n",
       "      <td>0</td>\n",
       "      <td>en</td>\n",
       "      <td>1.255637e+18</td>\n",
       "      <td>1255637372798210050</td>\n",
       "      <td>442449363.0</td>\n",
       "      <td>442449363</td>\n",
       "      <td>toptal</td>\n",
       "      <td>NaN</td>\n",
       "      <td>NaN</td>\n",
       "    </tr>\n",
       "    <tr>\n",
       "      <th>96</th>\n",
       "      <td>1468800334994812931</td>\n",
       "      <td>1468800334994812931</td>\n",
       "      <td>RT @GloryDogeCoin: We are happy to announce th...</td>\n",
       "      <td>Twitter for iPhone</td>\n",
       "      <td>http://twitter.com/download/iphone</td>\n",
       "      <td>126</td>\n",
       "      <td>0</td>\n",
       "      <td>en</td>\n",
       "      <td>NaN</td>\n",
       "      <td>NaN</td>\n",
       "      <td>NaN</td>\n",
       "      <td>NaN</td>\n",
       "      <td>NaN</td>\n",
       "      <td>NaN</td>\n",
       "      <td>NaN</td>\n",
       "    </tr>\n",
       "    <tr>\n",
       "      <th>97</th>\n",
       "      <td>1468792097092382723</td>\n",
       "      <td>1468792097092382723</td>\n",
       "      <td>@sullof https://t.co/3eZwbraMLH \\n\\nEXPOSED</td>\n",
       "      <td>Twitter Web App</td>\n",
       "      <td>https://mobile.twitter.com</td>\n",
       "      <td>0</td>\n",
       "      <td>1</td>\n",
       "      <td>en</td>\n",
       "      <td>1.468786e+18</td>\n",
       "      <td>1468786493338521600</td>\n",
       "      <td>5876772.0</td>\n",
       "      <td>5876772</td>\n",
       "      <td>sullof</td>\n",
       "      <td>NaN</td>\n",
       "      <td>NaN</td>\n",
       "    </tr>\n",
       "    <tr>\n",
       "      <th>98</th>\n",
       "      <td>1468760251411443712</td>\n",
       "      <td>1468760251411443712</td>\n",
       "      <td>@toptal @ATT Seems they also found the time to...</td>\n",
       "      <td>Twitter for iPhone</td>\n",
       "      <td>http://twitter.com/download/iphone</td>\n",
       "      <td>0</td>\n",
       "      <td>2</td>\n",
       "      <td>en</td>\n",
       "      <td>1.468248e+18</td>\n",
       "      <td>1468247632611061762</td>\n",
       "      <td>442449363.0</td>\n",
       "      <td>442449363</td>\n",
       "      <td>toptal</td>\n",
       "      <td>NaN</td>\n",
       "      <td>NaN</td>\n",
       "    </tr>\n",
       "    <tr>\n",
       "      <th>99</th>\n",
       "      <td>1468757550979944451</td>\n",
       "      <td>1468757550979944451</td>\n",
       "      <td>RT @DroneRaceLeague: 🔴WATCH LIVE: Drone Racing...</td>\n",
       "      <td>Twitter Web App</td>\n",
       "      <td>https://mobile.twitter.com</td>\n",
       "      <td>92</td>\n",
       "      <td>0</td>\n",
       "      <td>en</td>\n",
       "      <td>NaN</td>\n",
       "      <td>NaN</td>\n",
       "      <td>NaN</td>\n",
       "      <td>NaN</td>\n",
       "      <td>NaN</td>\n",
       "      <td>NaN</td>\n",
       "      <td>NaN</td>\n",
       "    </tr>\n",
       "  </tbody>\n",
       "</table>\n",
       "</div>"
      ],
      "text/plain": [
       "                     id  ... quoted_status_id_str\n",
       "95  1468800486316908547  ...                  NaN\n",
       "96  1468800334994812931  ...                  NaN\n",
       "97  1468792097092382723  ...                  NaN\n",
       "98  1468760251411443712  ...                  NaN\n",
       "99  1468757550979944451  ...                  NaN\n",
       "\n",
       "[5 rows x 15 columns]"
      ]
     },
     "execution_count": 56,
     "metadata": {},
     "output_type": "execute_result"
    }
   ],
   "source": [
    "df.tail()"
   ]
  },
  {
   "cell_type": "code",
   "execution_count": null,
   "metadata": {
    "id": "oEM3pMFixVWI"
   },
   "outputs": [],
   "source": [
    "df.to_json('stage1.json')"
   ]
  },
  {
   "cell_type": "code",
   "execution_count": null,
   "metadata": {
    "colab": {
     "base_uri": "https://localhost:8080/"
    },
    "id": "ox7ffN3-xVcM",
    "outputId": "b689645d-cdae-4fdc-dded-4c94383d5aed"
   },
   "outputs": [
    {
     "name": "stdout",
     "output_type": "stream",
     "text": [
      "Duration: 0:43:58.884685\n"
     ]
    }
   ],
   "source": [
    "end_time=datetime.now()\n",
    "print('Duration: {}'.format(end_time-start_time))"
   ]
  },
  {
   "cell_type": "code",
   "execution_count": null,
   "metadata": {
    "id": "tfhE5OjLxfET"
   },
   "outputs": [],
   "source": [
    "df1=pd.DataFrame(results)"
   ]
  },
  {
   "cell_type": "code",
   "execution_count": null,
   "metadata": {
    "colab": {
     "base_uri": "https://localhost:8080/",
     "height": 423
    },
    "id": "UC71BGxqxfLp",
    "outputId": "f397b2df-737d-405a-efb1-332b4631b816"
   },
   "outputs": [
    {
     "data": {
      "text/html": [
       "<div>\n",
       "<style scoped>\n",
       "    .dataframe tbody tr th:only-of-type {\n",
       "        vertical-align: middle;\n",
       "    }\n",
       "\n",
       "    .dataframe tbody tr th {\n",
       "        vertical-align: top;\n",
       "    }\n",
       "\n",
       "    .dataframe thead th {\n",
       "        text-align: right;\n",
       "    }\n",
       "</style>\n",
       "<table border=\"1\" class=\"dataframe\">\n",
       "  <thead>\n",
       "    <tr style=\"text-align: right;\">\n",
       "      <th></th>\n",
       "      <th>0</th>\n",
       "    </tr>\n",
       "  </thead>\n",
       "  <tbody>\n",
       "    <tr>\n",
       "      <th>0</th>\n",
       "      <td>Status(_api=&lt;tweepy.api.API object at 0x7f6ee5...</td>\n",
       "    </tr>\n",
       "    <tr>\n",
       "      <th>1</th>\n",
       "      <td>Status(_api=&lt;tweepy.api.API object at 0x7f6ee5...</td>\n",
       "    </tr>\n",
       "    <tr>\n",
       "      <th>2</th>\n",
       "      <td>Status(_api=&lt;tweepy.api.API object at 0x7f6ee5...</td>\n",
       "    </tr>\n",
       "    <tr>\n",
       "      <th>3</th>\n",
       "      <td>Status(_api=&lt;tweepy.api.API object at 0x7f6ee5...</td>\n",
       "    </tr>\n",
       "    <tr>\n",
       "      <th>4</th>\n",
       "      <td>Status(_api=&lt;tweepy.api.API object at 0x7f6ee5...</td>\n",
       "    </tr>\n",
       "    <tr>\n",
       "      <th>...</th>\n",
       "      <td>...</td>\n",
       "    </tr>\n",
       "    <tr>\n",
       "      <th>95</th>\n",
       "      <td>Status(_api=&lt;tweepy.api.API object at 0x7f6ee5...</td>\n",
       "    </tr>\n",
       "    <tr>\n",
       "      <th>96</th>\n",
       "      <td>Status(_api=&lt;tweepy.api.API object at 0x7f6ee5...</td>\n",
       "    </tr>\n",
       "    <tr>\n",
       "      <th>97</th>\n",
       "      <td>Status(_api=&lt;tweepy.api.API object at 0x7f6ee5...</td>\n",
       "    </tr>\n",
       "    <tr>\n",
       "      <th>98</th>\n",
       "      <td>Status(_api=&lt;tweepy.api.API object at 0x7f6ee5...</td>\n",
       "    </tr>\n",
       "    <tr>\n",
       "      <th>99</th>\n",
       "      <td>Status(_api=&lt;tweepy.api.API object at 0x7f6ee5...</td>\n",
       "    </tr>\n",
       "  </tbody>\n",
       "</table>\n",
       "<p>100 rows × 1 columns</p>\n",
       "</div>"
      ],
      "text/plain": [
       "                                                    0\n",
       "0   Status(_api=<tweepy.api.API object at 0x7f6ee5...\n",
       "1   Status(_api=<tweepy.api.API object at 0x7f6ee5...\n",
       "2   Status(_api=<tweepy.api.API object at 0x7f6ee5...\n",
       "3   Status(_api=<tweepy.api.API object at 0x7f6ee5...\n",
       "4   Status(_api=<tweepy.api.API object at 0x7f6ee5...\n",
       "..                                                ...\n",
       "95  Status(_api=<tweepy.api.API object at 0x7f6ee5...\n",
       "96  Status(_api=<tweepy.api.API object at 0x7f6ee5...\n",
       "97  Status(_api=<tweepy.api.API object at 0x7f6ee5...\n",
       "98  Status(_api=<tweepy.api.API object at 0x7f6ee5...\n",
       "99  Status(_api=<tweepy.api.API object at 0x7f6ee5...\n",
       "\n",
       "[100 rows x 1 columns]"
      ]
     },
     "execution_count": 47,
     "metadata": {},
     "output_type": "execute_result"
    }
   ],
   "source": [
    "df1"
   ]
  },
  {
   "cell_type": "code",
   "execution_count": null,
   "metadata": {
    "id": "QoQQocYqxrt_"
   },
   "outputs": [],
   "source": [
    "df1.to_csv('raw_data.csv')"
   ]
  },
  {
   "cell_type": "code",
   "execution_count": null,
   "metadata": {
    "id": "R9eIrld6xr78"
   },
   "outputs": [],
   "source": [
    "#inverted index\n",
    "import re\n",
    "mention = re.findall(r'@\\w+',rough)"
   ]
  },
  {
   "cell_type": "code",
   "execution_count": null,
   "metadata": {
    "colab": {
     "base_uri": "https://localhost:8080/"
    },
    "id": "HN9YKaUzyE0H",
    "outputId": "abfd2a62-ebcc-4bd5-e6a3-016c9a24baf6"
   },
   "outputs": [
    {
     "data": {
      "text/plain": [
       "['@toptal',\n",
       " '@ATT',\n",
       " '@ATT',\n",
       " '@karirfess',\n",
       " '@OlamideTowobola',\n",
       " '@edude03',\n",
       " '@stevefoxwrites',\n",
       " '@biffbaxter',\n",
       " '@MalwareJake',\n",
       " '@toptal',\n",
       " '@toptal',\n",
       " '@VladPasca5',\n",
       " '@toptal',\n",
       " '@toptal',\n",
       " '@toptal',\n",
       " '@toptal',\n",
       " '@toptal',\n",
       " '@AWSreInvent',\n",
       " '@VladPasca5',\n",
       " '@GloryDogeCoin',\n",
       " '@toptal',\n",
       " '@ATT',\n",
       " '@ATT',\n",
       " '@toptal',\n",
       " '@ATT',\n",
       " '@devnull',\n",
       " '@toptal',\n",
       " '@ATT',\n",
       " '@toptal',\n",
       " '@JoonEbube',\n",
       " '@AARPKNIGHT',\n",
       " '@cryptoAprille',\n",
       " '@jozefizso',\n",
       " '@AARPKNIGHT',\n",
       " '@cryptoAprille',\n",
       " '@cryptoAprille',\n",
       " '@IAyeshaSahar',\n",
       " '@cesilvam',\n",
       " '@toptal',\n",
       " '@ivybarley',\n",
       " '@IAyeshaSahar',\n",
       " '@vponamariov',\n",
       " '@sunilc_',\n",
       " '@IAyeshaSahar',\n",
       " '@IAyeshaSahar',\n",
       " '@IAyeshaSahar',\n",
       " '@IAyeshaSahar',\n",
       " '@IAyeshaSahar',\n",
       " '@toptal',\n",
       " '@ATT',\n",
       " '@ishverduzco',\n",
       " '@Collab_Land_',\n",
       " '@toptal',\n",
       " '@toptal',\n",
       " '@toptal',\n",
       " '@toptal',\n",
       " '@devnull',\n",
       " '@toptal',\n",
       " '@TheMoonCarl',\n",
       " '@akbarth3great',\n",
       " '@akbarth3great',\n",
       " '@akbarth3great',\n",
       " '@marianogoren',\n",
       " '@marianogoren',\n",
       " '@marianogoren',\n",
       " '@devnull',\n",
       " '@Toptal',\n",
       " '@Toptal',\n",
       " '@toptal',\n",
       " '@gensler_design',\n",
       " '@toptal',\n",
       " '@ATT',\n",
       " '@ATT',\n",
       " '@OANN',\n",
       " '@toptal',\n",
       " '@ATT',\n",
       " '@OANN',\n",
       " '@toptal',\n",
       " '@AGarnero',\n",
       " '@toptal',\n",
       " '@Danishyousufmir',\n",
       " '@dancroghan',\n",
       " '@Danishyousufmir',\n",
       " '@Danishyousufmir',\n",
       " '@devnull',\n",
       " '@Momentswithbren',\n",
       " '@techoregon',\n",
       " '@pocintech',\n",
       " '@AbbiancaMak',\n",
       " '@hachakson',\n",
       " '@flippen6485',\n",
       " '@austingriffith',\n",
       " '@ensdomains',\n",
       " '@toptal',\n",
       " '@goldefy_',\n",
       " '@GloryDogeCoin',\n",
       " '@sullof',\n",
       " '@toptal',\n",
       " '@ATT',\n",
       " '@ATT',\n",
       " '@DroneRaceLeague',\n",
       " '@USAFrecrui']"
      ]
     },
     "execution_count": 50,
     "metadata": {},
     "output_type": "execute_result"
    }
   ],
   "source": [
    "mention"
   ]
  },
  {
   "cell_type": "code",
   "execution_count": null,
   "metadata": {
    "colab": {
     "base_uri": "https://localhost:8080/"
    },
    "id": "CEJlemLhyLAu",
    "outputId": "7d425b01-df16-421f-e04a-b769c66cf868"
   },
   "outputs": [
    {
     "data": {
      "text/plain": [
       "['#Writing',\n",
       " '#remotework',\n",
       " '#UserResearch',\n",
       " '#UXDesign',\n",
       " '#ProductDesignIn',\n",
       " '#Fiverr',\n",
       " '#Upwork',\n",
       " '#Toptal',\n",
       " '#Freelancer',\n",
       " '#Behance',\n",
       " '#ServiceScape',\n",
       " '#DesignHill',\n",
       " '#TaskRabbit',\n",
       " '#Guru',\n",
       " '#LinkedIn',\n",
       " '#Flexjobs',\n",
       " '#PeoplePerHour',\n",
       " '#SimplyHired',\n",
       " '#Dribbble',\n",
       " '#AngelList',\n",
       " '#YunoJuno',\n",
       " '#DesignCrowd',\n",
       " '#Writing',\n",
       " '#jobSearch',\n",
       " '#toptal',\n",
       " '#talent',\n",
       " '#freelancing',\n",
       " '#MOBI',\n",
       " '#lobstr',\n",
       " '#xlm',\n",
       " '#defiFreelance',\n",
       " '#FreelanceJobs',\n",
       " '#Freelance',\n",
       " '#Jobs',\n",
       " '#Freelancer',\n",
       " '#Portfolio',\n",
       " '#Upwork',\n",
       " '#Toptal',\n",
       " '#Offline',\n",
       " '#NoMoreRT',\n",
       " '#nobilitytoken',\n",
       " '#nobilitytoken',\n",
       " '#nobilitytoken',\n",
       " '#esports',\n",
       " '#hybrid',\n",
       " '#futureofwork',\n",
       " '#Toptal',\n",
       " '#Developer',\n",
       " '#remotework',\n",
       " '#remotejobs',\n",
       " '#wfh',\n",
       " '#Toptal',\n",
       " '#Developer',\n",
       " '#remotework',\n",
       " '#remotejobs',\n",
       " '#wfh',\n",
       " '#Toptal',\n",
       " '#Developer',\n",
       " '#remotework',\n",
       " '#remotejobs',\n",
       " '#wfh',\n",
       " '#Writing',\n",
       " '#remoteworking',\n",
       " '#engineeringmanagement',\n",
       " '#engineering',\n",
       " '#remotework',\n",
       " '#remotejobsRT',\n",
       " '#remotework',\n",
       " '#remotejobs',\n",
       " '#wfh',\n",
       " '#remotework',\n",
       " '#remotejobs',\n",
       " '#wfh',\n",
       " '#remotework',\n",
       " '#remotejobs',\n",
       " '#wfh',\n",
       " '#remotework',\n",
       " '#remotejobs',\n",
       " '#wfh',\n",
       " '#algorithms',\n",
       " '#python',\n",
       " '#caterpillar',\n",
       " '#toptal',\n",
       " '#codility',\n",
       " '#algorithms',\n",
       " '#python',\n",
       " '#caterpillar',\n",
       " '#toptal',\n",
       " '#codility',\n",
       " '#algorithms',\n",
       " '#python',\n",
       " '#caterpillar',\n",
       " '#toptal',\n",
       " '#codility',\n",
       " '#algorithms',\n",
       " '#python',\n",
       " '#caterpillar',\n",
       " '#toptal',\n",
       " '#codility',\n",
       " '#ux',\n",
       " '#product',\n",
       " '#design',\n",
       " '#ux',\n",
       " '#product',\n",
       " '#design',\n",
       " '#ux',\n",
       " '#product',\n",
       " '#design',\n",
       " '#ux',\n",
       " '#product',\n",
       " '#design',\n",
       " '#dclcorp',\n",
       " '#holiday',\n",
       " '#ecommercetrends',\n",
       " '#ecommerce',\n",
       " '#MetisStrategySymposium',\n",
       " '#virtual',\n",
       " '#MetisStrategySymposium',\n",
       " '#hybrid',\n",
       " '#futureofwork',\n",
       " '#hybrid',\n",
       " '#futureofwork',\n",
       " '#Toptal',\n",
       " '#Engineer',\n",
       " '#remotework',\n",
       " '#remotejobs',\n",
       " '#wfh',\n",
       " '#100DaysOfCodeRT',\n",
       " '#100DaysOfCodeRT',\n",
       " '#100DaysOfCodeRT',\n",
       " '#engineer',\n",
       " '#webdeveloper',\n",
       " '#100DaysOfCode']"
      ]
     },
     "execution_count": 51,
     "metadata": {},
     "output_type": "execute_result"
    }
   ],
   "source": [
    "hashtag = re.findall(r'#\\w+',rough)\n",
    "hashtag"
   ]
  },
  {
   "cell_type": "code",
   "execution_count": null,
   "metadata": {
    "colab": {
     "base_uri": "https://localhost:8080/"
    },
    "id": "zZaO3vdmyeJ0",
    "outputId": "89e5e18a-e29d-459a-a431-6226b331b0c7"
   },
   "outputs": [
    {
     "name": "stdout",
     "output_type": "stream",
     "text": [
      "#Writing:3\n",
      "#remotework:10\n",
      "#UserResearch:1\n",
      "#UXDesign:1\n",
      "#ProductDesignIn:1\n",
      "#Fiverr:1\n",
      "#Upwork:2\n",
      "#Toptal:6\n",
      "#Freelancer:2\n",
      "#Behance:1\n",
      "#ServiceScape:1\n",
      "#DesignHill:1\n",
      "#TaskRabbit:1\n",
      "#Guru:1\n",
      "#LinkedIn:1\n",
      "#Flexjobs:1\n",
      "#PeoplePerHour:1\n",
      "#SimplyHired:1\n",
      "#Dribbble:1\n",
      "#AngelList:1\n",
      "#YunoJuno:1\n",
      "#DesignCrowd:1\n",
      "#jobSearch:1\n",
      "#toptal:5\n",
      "#talent:1\n",
      "#freelancing:1\n",
      "#MOBI:1\n",
      "#lobstr:1\n",
      "#xlm:1\n",
      "#defiFreelance:1\n",
      "#FreelanceJobs:1\n",
      "#Freelance:1\n",
      "#Jobs:1\n",
      "#Portfolio:1\n",
      "#Offline:1\n",
      "#NoMoreRT:1\n",
      "#nobilitytoken:3\n",
      "#esports:1\n",
      "#hybrid:3\n",
      "#futureofwork:3\n",
      "#Developer:3\n",
      "#remotejobs:8\n",
      "#wfh:8\n",
      "#remoteworking:1\n",
      "#engineeringmanagement:1\n",
      "#engineering:1\n",
      "#remotejobsRT:1\n",
      "#algorithms:4\n",
      "#python:4\n",
      "#caterpillar:4\n",
      "#codility:4\n",
      "#ux:4\n",
      "#product:4\n",
      "#design:4\n",
      "#dclcorp:1\n",
      "#holiday:1\n",
      "#ecommercetrends:1\n",
      "#ecommerce:1\n",
      "#MetisStrategySymposium:2\n",
      "#virtual:1\n",
      "#Engineer:1\n",
      "#100DaysOfCodeRT:3\n",
      "#engineer:1\n",
      "#webdeveloper:1\n",
      "#100DaysOfCode:1\n"
     ]
    }
   ],
   "source": [
    "dict1 = {}\n",
    "for item in hashtag:\n",
    "    if item in dict1:\n",
    "        dict1[item] += 1\n",
    "    else:\n",
    "        dict1[item] = 1\n",
    "        \n",
    "for key , value in dict1.items():\n",
    "    print(f\"{key}:{value}\")"
   ]
  },
  {
   "cell_type": "code",
   "execution_count": null,
   "metadata": {
    "colab": {
     "base_uri": "https://localhost:8080/"
    },
    "id": "kBa4z4bQyow3",
    "outputId": "a4a80e04-9037-477b-854f-a17712403f74"
   },
   "outputs": [
    {
     "data": {
      "text/plain": [
       "{'#100DaysOfCode': 1,\n",
       " '#100DaysOfCodeRT': 3,\n",
       " '#AngelList': 1,\n",
       " '#Behance': 1,\n",
       " '#DesignCrowd': 1,\n",
       " '#DesignHill': 1,\n",
       " '#Developer': 3,\n",
       " '#Dribbble': 1,\n",
       " '#Engineer': 1,\n",
       " '#Fiverr': 1,\n",
       " '#Flexjobs': 1,\n",
       " '#Freelance': 1,\n",
       " '#FreelanceJobs': 1,\n",
       " '#Freelancer': 2,\n",
       " '#Guru': 1,\n",
       " '#Jobs': 1,\n",
       " '#LinkedIn': 1,\n",
       " '#MOBI': 1,\n",
       " '#MetisStrategySymposium': 2,\n",
       " '#NoMoreRT': 1,\n",
       " '#Offline': 1,\n",
       " '#PeoplePerHour': 1,\n",
       " '#Portfolio': 1,\n",
       " '#ProductDesignIn': 1,\n",
       " '#ServiceScape': 1,\n",
       " '#SimplyHired': 1,\n",
       " '#TaskRabbit': 1,\n",
       " '#Toptal': 6,\n",
       " '#UXDesign': 1,\n",
       " '#Upwork': 2,\n",
       " '#UserResearch': 1,\n",
       " '#Writing': 3,\n",
       " '#YunoJuno': 1,\n",
       " '#algorithms': 4,\n",
       " '#caterpillar': 4,\n",
       " '#codility': 4,\n",
       " '#dclcorp': 1,\n",
       " '#defiFreelance': 1,\n",
       " '#design': 4,\n",
       " '#ecommerce': 1,\n",
       " '#ecommercetrends': 1,\n",
       " '#engineer': 1,\n",
       " '#engineering': 1,\n",
       " '#engineeringmanagement': 1,\n",
       " '#esports': 1,\n",
       " '#freelancing': 1,\n",
       " '#futureofwork': 3,\n",
       " '#holiday': 1,\n",
       " '#hybrid': 3,\n",
       " '#jobSearch': 1,\n",
       " '#lobstr': 1,\n",
       " '#nobilitytoken': 3,\n",
       " '#product': 4,\n",
       " '#python': 4,\n",
       " '#remotejobs': 8,\n",
       " '#remotejobsRT': 1,\n",
       " '#remotework': 10,\n",
       " '#remoteworking': 1,\n",
       " '#talent': 1,\n",
       " '#toptal': 5,\n",
       " '#ux': 4,\n",
       " '#virtual': 1,\n",
       " '#webdeveloper': 1,\n",
       " '#wfh': 8,\n",
       " '#xlm': 1}"
      ]
     },
     "execution_count": 53,
     "metadata": {},
     "output_type": "execute_result"
    }
   ],
   "source": [
    "dict1"
   ]
  },
  {
   "cell_type": "code",
   "execution_count": null,
   "metadata": {
    "colab": {
     "base_uri": "https://localhost:8080/"
    },
    "id": "7n336de7yu7l",
    "outputId": "02f7d5df-e954-4992-e474-0bf22f351206"
   },
   "outputs": [
    {
     "name": "stdout",
     "output_type": "stream",
     "text": [
      "@toptal:26\n",
      "@ATT:12\n",
      "@karirfess:1\n",
      "@OlamideTowobola:1\n",
      "@edude03:1\n",
      "@stevefoxwrites:1\n",
      "@biffbaxter:1\n",
      "@MalwareJake:1\n",
      "@VladPasca5:2\n",
      "@AWSreInvent:1\n",
      "@GloryDogeCoin:2\n",
      "@devnull:4\n",
      "@JoonEbube:1\n",
      "@AARPKNIGHT:2\n",
      "@cryptoAprille:3\n",
      "@jozefizso:1\n",
      "@IAyeshaSahar:7\n",
      "@cesilvam:1\n",
      "@ivybarley:1\n",
      "@vponamariov:1\n",
      "@sunilc_:1\n",
      "@ishverduzco:1\n",
      "@Collab_Land_:1\n",
      "@TheMoonCarl:1\n",
      "@akbarth3great:3\n",
      "@marianogoren:3\n",
      "@Toptal:2\n",
      "@gensler_design:1\n",
      "@OANN:2\n",
      "@AGarnero:1\n",
      "@Danishyousufmir:3\n",
      "@dancroghan:1\n",
      "@Momentswithbren:1\n",
      "@techoregon:1\n",
      "@pocintech:1\n",
      "@AbbiancaMak:1\n",
      "@hachakson:1\n",
      "@flippen6485:1\n",
      "@austingriffith:1\n",
      "@ensdomains:1\n",
      "@goldefy_:1\n",
      "@sullof:1\n",
      "@DroneRaceLeague:1\n",
      "@USAFrecrui:1\n"
     ]
    }
   ],
   "source": [
    "dict2 = {}\n",
    "for item in mention:\n",
    "    if item in dict2:\n",
    "        dict2[item] += 1\n",
    "    else:\n",
    "        dict2[item] = 1\n",
    "        \n",
    "for key , value in dict2.items():\n",
    "    print(f\"{key}:{value}\")"
   ]
  },
  {
   "cell_type": "code",
   "execution_count": null,
   "metadata": {
    "id": "6fRMVanRyLJL"
   },
   "outputs": [],
   "source": []
  },
  {
   "cell_type": "code",
   "execution_count": null,
   "metadata": {},
   "outputs": [],
   "source": []
  },
  {
   "cell_type": "code",
   "execution_count": null,
   "metadata": {},
   "outputs": [],
   "source": []
  }
 ],
 "metadata": {
  "colab": {
   "collapsed_sections": [],
   "name": "data gather.ipynb",
   "provenance": []
  },
  "kernelspec": {
   "display_name": "Python 3",
   "language": "python",
   "name": "python3"
  },
  "language_info": {
   "codemirror_mode": {
    "name": "ipython",
    "version": 3
   },
   "file_extension": ".py",
   "mimetype": "text/x-python",
   "name": "python",
   "nbconvert_exporter": "python",
   "pygments_lexer": "ipython3",
   "version": "3.8.8"
  }
 },
 "nbformat": 4,
 "nbformat_minor": 1
}
