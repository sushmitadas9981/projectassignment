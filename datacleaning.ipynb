{
 "cells": [
  {
   "cell_type": "markdown",
   "metadata": {
    "id": "4M8mxNa-wLL9"
   },
   "source": [
    "# Stage 2 :- Data Cleaning"
   ]
  },
  {
   "cell_type": "code",
   "execution_count": 21,
   "metadata": {},
   "outputs": [],
   "source": [
    "import tweepy\n",
    "import webbrowser\n",
    "from datetime import datetime\n",
    "import pandas as pd\n",
    "start_time=datetime.now()"
   ]
  },
  {
   "cell_type": "code",
   "execution_count": 2,
   "metadata": {
    "id": "v3J86axNweQw"
   },
   "outputs": [],
   "source": [
    "with open('stage1.json') as f:\n",
    "    data=json.load(f)\n",
    "    "
   ]
  },
  {
   "cell_type": "code",
   "execution_count": 3,
   "metadata": {
    "id": "9Ntxyzm-wgKc"
   },
   "outputs": [],
   "source": [
    "df=pd.DataFrame(data)"
   ]
  },
  {
   "cell_type": "code",
   "execution_count": 4,
   "metadata": {
    "colab": {
     "base_uri": "https://localhost:8080/",
     "height": 452
    },
    "id": "MpEWD5DswlBR",
    "outputId": "1add4485-400c-424b-e677-993286594881"
   },
   "outputs": [
    {
     "data": {
      "text/html": [
       "<div>\n",
       "<style scoped>\n",
       "    .dataframe tbody tr th:only-of-type {\n",
       "        vertical-align: middle;\n",
       "    }\n",
       "\n",
       "    .dataframe tbody tr th {\n",
       "        vertical-align: top;\n",
       "    }\n",
       "\n",
       "    .dataframe thead th {\n",
       "        text-align: right;\n",
       "    }\n",
       "</style>\n",
       "<table border=\"1\" class=\"dataframe\">\n",
       "  <thead>\n",
       "    <tr style=\"text-align: right;\">\n",
       "      <th></th>\n",
       "      <th>id</th>\n",
       "      <th>id_str</th>\n",
       "      <th>full_text</th>\n",
       "      <th>source</th>\n",
       "      <th>source_url</th>\n",
       "      <th>retweet_count</th>\n",
       "      <th>favorite_count</th>\n",
       "      <th>lang</th>\n",
       "      <th>quoted_status_id</th>\n",
       "      <th>quoted_status_id_str</th>\n",
       "      <th>in_reply_to_status_id</th>\n",
       "      <th>in_reply_to_status_id_str</th>\n",
       "      <th>in_reply_to_user_id</th>\n",
       "      <th>in_reply_to_user_id_str</th>\n",
       "      <th>in_reply_to_screen_name</th>\n",
       "    </tr>\n",
       "  </thead>\n",
       "  <tbody>\n",
       "    <tr>\n",
       "      <th>0</th>\n",
       "      <td>1469962406470336516</td>\n",
       "      <td>1469962406470336516</td>\n",
       "      <td>In a world gone mad #Marr is criticising @Keir...</td>\n",
       "      <td>Twitter for iPad</td>\n",
       "      <td>http://twitter.com/#!/download/ipad</td>\n",
       "      <td>2590</td>\n",
       "      <td>15955</td>\n",
       "      <td>en</td>\n",
       "      <td>NaN</td>\n",
       "      <td>None</td>\n",
       "      <td>NaN</td>\n",
       "      <td>None</td>\n",
       "      <td>NaN</td>\n",
       "      <td>None</td>\n",
       "      <td>None</td>\n",
       "    </tr>\n",
       "    <tr>\n",
       "      <th>1</th>\n",
       "      <td>1469975237894803457</td>\n",
       "      <td>1469975237894803457</td>\n",
       "      <td>Doctors &amp;amp; nurses in UK 🇬🇧 are too traumati...</td>\n",
       "      <td>Twitter for iPhone</td>\n",
       "      <td>http://twitter.com/download/iphone</td>\n",
       "      <td>1851</td>\n",
       "      <td>4315</td>\n",
       "      <td>en</td>\n",
       "      <td>NaN</td>\n",
       "      <td>None</td>\n",
       "      <td>NaN</td>\n",
       "      <td>None</td>\n",
       "      <td>NaN</td>\n",
       "      <td>None</td>\n",
       "      <td>None</td>\n",
       "    </tr>\n",
       "    <tr>\n",
       "      <th>2</th>\n",
       "      <td>1469726461456269315</td>\n",
       "      <td>1469726461456269315</td>\n",
       "      <td>EXCLUSIVE: Nigerian Government To Place UK, Ca...</td>\n",
       "      <td>Twitter for Android</td>\n",
       "      <td>http://twitter.com/download/android</td>\n",
       "      <td>899</td>\n",
       "      <td>1896</td>\n",
       "      <td>en</td>\n",
       "      <td>NaN</td>\n",
       "      <td>None</td>\n",
       "      <td>NaN</td>\n",
       "      <td>None</td>\n",
       "      <td>NaN</td>\n",
       "      <td>None</td>\n",
       "      <td>None</td>\n",
       "    </tr>\n",
       "    <tr>\n",
       "      <th>3</th>\n",
       "      <td>1470355047854845959</td>\n",
       "      <td>1470355047854845959</td>\n",
       "      <td>RT @ProtestNews_EN: #France, #Montauban \\nChao...</td>\n",
       "      <td>Twitter for iPhone</td>\n",
       "      <td>http://twitter.com/download/iphone</td>\n",
       "      <td>35</td>\n",
       "      <td>0</td>\n",
       "      <td>en</td>\n",
       "      <td>NaN</td>\n",
       "      <td>None</td>\n",
       "      <td>NaN</td>\n",
       "      <td>None</td>\n",
       "      <td>NaN</td>\n",
       "      <td>None</td>\n",
       "      <td>None</td>\n",
       "    </tr>\n",
       "    <tr>\n",
       "      <th>4</th>\n",
       "      <td>1470355036886781955</td>\n",
       "      <td>1470355036886781955</td>\n",
       "      <td>RT @ellymelly: Hospitals exist as a service fo...</td>\n",
       "      <td>Twitter for Mac</td>\n",
       "      <td>http://itunes.apple.com/us/app/twitter/id40978...</td>\n",
       "      <td>326</td>\n",
       "      <td>0</td>\n",
       "      <td>en</td>\n",
       "      <td>NaN</td>\n",
       "      <td>None</td>\n",
       "      <td>NaN</td>\n",
       "      <td>None</td>\n",
       "      <td>NaN</td>\n",
       "      <td>None</td>\n",
       "      <td>None</td>\n",
       "    </tr>\n",
       "  </tbody>\n",
       "</table>\n",
       "</div>"
      ],
      "text/plain": [
       "                    id               id_str  \\\n",
       "0  1469962406470336516  1469962406470336516   \n",
       "1  1469975237894803457  1469975237894803457   \n",
       "2  1469726461456269315  1469726461456269315   \n",
       "3  1470355047854845959  1470355047854845959   \n",
       "4  1470355036886781955  1470355036886781955   \n",
       "\n",
       "                                           full_text               source  \\\n",
       "0  In a world gone mad #Marr is criticising @Keir...     Twitter for iPad   \n",
       "1  Doctors &amp; nurses in UK 🇬🇧 are too traumati...   Twitter for iPhone   \n",
       "2  EXCLUSIVE: Nigerian Government To Place UK, Ca...  Twitter for Android   \n",
       "3  RT @ProtestNews_EN: #France, #Montauban \\nChao...   Twitter for iPhone   \n",
       "4  RT @ellymelly: Hospitals exist as a service fo...      Twitter for Mac   \n",
       "\n",
       "                                          source_url  retweet_count  \\\n",
       "0                http://twitter.com/#!/download/ipad           2590   \n",
       "1                 http://twitter.com/download/iphone           1851   \n",
       "2                http://twitter.com/download/android            899   \n",
       "3                 http://twitter.com/download/iphone             35   \n",
       "4  http://itunes.apple.com/us/app/twitter/id40978...            326   \n",
       "\n",
       "   favorite_count lang  quoted_status_id quoted_status_id_str  \\\n",
       "0           15955   en               NaN                 None   \n",
       "1            4315   en               NaN                 None   \n",
       "2            1896   en               NaN                 None   \n",
       "3               0   en               NaN                 None   \n",
       "4               0   en               NaN                 None   \n",
       "\n",
       "   in_reply_to_status_id in_reply_to_status_id_str  in_reply_to_user_id  \\\n",
       "0                    NaN                      None                  NaN   \n",
       "1                    NaN                      None                  NaN   \n",
       "2                    NaN                      None                  NaN   \n",
       "3                    NaN                      None                  NaN   \n",
       "4                    NaN                      None                  NaN   \n",
       "\n",
       "  in_reply_to_user_id_str in_reply_to_screen_name  \n",
       "0                    None                    None  \n",
       "1                    None                    None  \n",
       "2                    None                    None  \n",
       "3                    None                    None  \n",
       "4                    None                    None  "
      ]
     },
     "execution_count": 4,
     "metadata": {},
     "output_type": "execute_result"
    }
   ],
   "source": [
    "df.head()"
   ]
  },
  {
   "cell_type": "code",
   "execution_count": 5,
   "metadata": {
    "colab": {
     "base_uri": "https://localhost:8080/",
     "height": 469
    },
    "id": "mjUFhIGhwgQv",
    "outputId": "d3435787-b21c-4b30-fed7-37c63f8ebef4"
   },
   "outputs": [
    {
     "data": {
      "text/html": [
       "<div>\n",
       "<style scoped>\n",
       "    .dataframe tbody tr th:only-of-type {\n",
       "        vertical-align: middle;\n",
       "    }\n",
       "\n",
       "    .dataframe tbody tr th {\n",
       "        vertical-align: top;\n",
       "    }\n",
       "\n",
       "    .dataframe thead th {\n",
       "        text-align: right;\n",
       "    }\n",
       "</style>\n",
       "<table border=\"1\" class=\"dataframe\">\n",
       "  <thead>\n",
       "    <tr style=\"text-align: right;\">\n",
       "      <th></th>\n",
       "      <th>id</th>\n",
       "      <th>id_str</th>\n",
       "      <th>full_text</th>\n",
       "      <th>source</th>\n",
       "      <th>source_url</th>\n",
       "      <th>retweet_count</th>\n",
       "      <th>favorite_count</th>\n",
       "      <th>lang</th>\n",
       "      <th>quoted_status_id</th>\n",
       "      <th>quoted_status_id_str</th>\n",
       "      <th>in_reply_to_status_id</th>\n",
       "      <th>in_reply_to_status_id_str</th>\n",
       "      <th>in_reply_to_user_id</th>\n",
       "      <th>in_reply_to_user_id_str</th>\n",
       "      <th>in_reply_to_screen_name</th>\n",
       "    </tr>\n",
       "  </thead>\n",
       "  <tbody>\n",
       "    <tr>\n",
       "      <th>95</th>\n",
       "      <td>1470354649785974788</td>\n",
       "      <td>1470354649785974788</td>\n",
       "      <td>RT @NeilMullens: #COVID19: Home testing kits h...</td>\n",
       "      <td>Twitter for iPhone</td>\n",
       "      <td>http://twitter.com/download/iphone</td>\n",
       "      <td>1</td>\n",
       "      <td>0</td>\n",
       "      <td>en</td>\n",
       "      <td>NaN</td>\n",
       "      <td>None</td>\n",
       "      <td>NaN</td>\n",
       "      <td>None</td>\n",
       "      <td>NaN</td>\n",
       "      <td>None</td>\n",
       "      <td>None</td>\n",
       "    </tr>\n",
       "    <tr>\n",
       "      <th>96</th>\n",
       "      <td>1470354635672068103</td>\n",
       "      <td>1470354635672068103</td>\n",
       "      <td>RT @CMO_Odisha: Appreciation for @AIFoundation...</td>\n",
       "      <td>Twitter for Android</td>\n",
       "      <td>http://twitter.com/download/android</td>\n",
       "      <td>37</td>\n",
       "      <td>0</td>\n",
       "      <td>en</td>\n",
       "      <td>1.469984e+18</td>\n",
       "      <td>1469983789052952576</td>\n",
       "      <td>NaN</td>\n",
       "      <td>None</td>\n",
       "      <td>NaN</td>\n",
       "      <td>None</td>\n",
       "      <td>None</td>\n",
       "    </tr>\n",
       "    <tr>\n",
       "      <th>97</th>\n",
       "      <td>1470354632895459329</td>\n",
       "      <td>1470354632895459329</td>\n",
       "      <td>RT @IndiaToday: Actress Kareena Kapoor Khan &amp;a...</td>\n",
       "      <td>Twitter Web App</td>\n",
       "      <td>https://mobile.twitter.com</td>\n",
       "      <td>8</td>\n",
       "      <td>0</td>\n",
       "      <td>en</td>\n",
       "      <td>NaN</td>\n",
       "      <td>None</td>\n",
       "      <td>NaN</td>\n",
       "      <td>None</td>\n",
       "      <td>NaN</td>\n",
       "      <td>None</td>\n",
       "      <td>None</td>\n",
       "    </tr>\n",
       "    <tr>\n",
       "      <th>98</th>\n",
       "      <td>1470354621772169217</td>\n",
       "      <td>1470354621772169217</td>\n",
       "      <td>RT @Covid19Place: Malaysia: Mon, 13 Dec - Covi...</td>\n",
       "      <td>Twitter for Android</td>\n",
       "      <td>http://twitter.com/download/android</td>\n",
       "      <td>32</td>\n",
       "      <td>0</td>\n",
       "      <td>en</td>\n",
       "      <td>NaN</td>\n",
       "      <td>None</td>\n",
       "      <td>NaN</td>\n",
       "      <td>None</td>\n",
       "      <td>NaN</td>\n",
       "      <td>None</td>\n",
       "      <td>None</td>\n",
       "    </tr>\n",
       "    <tr>\n",
       "      <th>99</th>\n",
       "      <td>1470354620769730562</td>\n",
       "      <td>1470354620769730562</td>\n",
       "      <td>RT @sanjeevchadha8: @PMOIndia @HMOIndia @Delhi...</td>\n",
       "      <td>Twitter for Android</td>\n",
       "      <td>http://twitter.com/download/android</td>\n",
       "      <td>64</td>\n",
       "      <td>0</td>\n",
       "      <td>en</td>\n",
       "      <td>1.470250e+18</td>\n",
       "      <td>1470249621196845057</td>\n",
       "      <td>NaN</td>\n",
       "      <td>None</td>\n",
       "      <td>NaN</td>\n",
       "      <td>None</td>\n",
       "      <td>None</td>\n",
       "    </tr>\n",
       "  </tbody>\n",
       "</table>\n",
       "</div>"
      ],
      "text/plain": [
       "                     id               id_str  \\\n",
       "95  1470354649785974788  1470354649785974788   \n",
       "96  1470354635672068103  1470354635672068103   \n",
       "97  1470354632895459329  1470354632895459329   \n",
       "98  1470354621772169217  1470354621772169217   \n",
       "99  1470354620769730562  1470354620769730562   \n",
       "\n",
       "                                            full_text               source  \\\n",
       "95  RT @NeilMullens: #COVID19: Home testing kits h...   Twitter for iPhone   \n",
       "96  RT @CMO_Odisha: Appreciation for @AIFoundation...  Twitter for Android   \n",
       "97  RT @IndiaToday: Actress Kareena Kapoor Khan &a...      Twitter Web App   \n",
       "98  RT @Covid19Place: Malaysia: Mon, 13 Dec - Covi...  Twitter for Android   \n",
       "99  RT @sanjeevchadha8: @PMOIndia @HMOIndia @Delhi...  Twitter for Android   \n",
       "\n",
       "                             source_url  retweet_count  favorite_count lang  \\\n",
       "95   http://twitter.com/download/iphone              1               0   en   \n",
       "96  http://twitter.com/download/android             37               0   en   \n",
       "97           https://mobile.twitter.com              8               0   en   \n",
       "98  http://twitter.com/download/android             32               0   en   \n",
       "99  http://twitter.com/download/android             64               0   en   \n",
       "\n",
       "    quoted_status_id quoted_status_id_str  in_reply_to_status_id  \\\n",
       "95               NaN                 None                    NaN   \n",
       "96      1.469984e+18  1469983789052952576                    NaN   \n",
       "97               NaN                 None                    NaN   \n",
       "98               NaN                 None                    NaN   \n",
       "99      1.470250e+18  1470249621196845057                    NaN   \n",
       "\n",
       "   in_reply_to_status_id_str  in_reply_to_user_id in_reply_to_user_id_str  \\\n",
       "95                      None                  NaN                    None   \n",
       "96                      None                  NaN                    None   \n",
       "97                      None                  NaN                    None   \n",
       "98                      None                  NaN                    None   \n",
       "99                      None                  NaN                    None   \n",
       "\n",
       "   in_reply_to_screen_name  \n",
       "95                    None  \n",
       "96                    None  \n",
       "97                    None  \n",
       "98                    None  \n",
       "99                    None  "
      ]
     },
     "execution_count": 5,
     "metadata": {},
     "output_type": "execute_result"
    }
   ],
   "source": [
    "df.tail()"
   ]
  },
  {
   "cell_type": "code",
   "execution_count": 6,
   "metadata": {
    "colab": {
     "base_uri": "https://localhost:8080/"
    },
    "id": "8eQadazQwvig",
    "outputId": "aa72d2d2-3381-4ae0-9b16-d2e6e7be543d"
   },
   "outputs": [
    {
     "name": "stdout",
     "output_type": "stream",
     "text": [
      "<class 'pandas.core.frame.DataFrame'>\n",
      "Index: 100 entries, 0 to 99\n",
      "Data columns (total 15 columns):\n",
      " #   Column                     Non-Null Count  Dtype  \n",
      "---  ------                     --------------  -----  \n",
      " 0   id                         100 non-null    int64  \n",
      " 1   id_str                     100 non-null    object \n",
      " 2   full_text                  100 non-null    object \n",
      " 3   source                     100 non-null    object \n",
      " 4   source_url                 100 non-null    object \n",
      " 5   retweet_count              100 non-null    int64  \n",
      " 6   favorite_count             100 non-null    int64  \n",
      " 7   lang                       100 non-null    object \n",
      " 8   quoted_status_id           7 non-null      float64\n",
      " 9   quoted_status_id_str       7 non-null      object \n",
      " 10  in_reply_to_status_id      6 non-null      float64\n",
      " 11  in_reply_to_status_id_str  6 non-null      object \n",
      " 12  in_reply_to_user_id        6 non-null      float64\n",
      " 13  in_reply_to_user_id_str    6 non-null      object \n",
      " 14  in_reply_to_screen_name    6 non-null      object \n",
      "dtypes: float64(3), int64(3), object(9)\n",
      "memory usage: 12.5+ KB\n"
     ]
    }
   ],
   "source": [
    "df.info()"
   ]
  },
  {
   "cell_type": "code",
   "execution_count": 7,
   "metadata": {
    "colab": {
     "base_uri": "https://localhost:8080/",
     "height": 300
    },
    "id": "GofnFZ0Dwvne",
    "outputId": "c936fdc2-db3c-40b0-e12f-3446cc66dc02"
   },
   "outputs": [
    {
     "data": {
      "text/html": [
       "<div>\n",
       "<style scoped>\n",
       "    .dataframe tbody tr th:only-of-type {\n",
       "        vertical-align: middle;\n",
       "    }\n",
       "\n",
       "    .dataframe tbody tr th {\n",
       "        vertical-align: top;\n",
       "    }\n",
       "\n",
       "    .dataframe thead th {\n",
       "        text-align: right;\n",
       "    }\n",
       "</style>\n",
       "<table border=\"1\" class=\"dataframe\">\n",
       "  <thead>\n",
       "    <tr style=\"text-align: right;\">\n",
       "      <th></th>\n",
       "      <th>id</th>\n",
       "      <th>retweet_count</th>\n",
       "      <th>favorite_count</th>\n",
       "      <th>quoted_status_id</th>\n",
       "      <th>in_reply_to_status_id</th>\n",
       "      <th>in_reply_to_user_id</th>\n",
       "    </tr>\n",
       "  </thead>\n",
       "  <tbody>\n",
       "    <tr>\n",
       "      <th>count</th>\n",
       "      <td>1.000000e+02</td>\n",
       "      <td>100.000000</td>\n",
       "      <td>100.000000</td>\n",
       "      <td>7.000000e+00</td>\n",
       "      <td>6.000000e+00</td>\n",
       "      <td>6.000000e+00</td>\n",
       "    </tr>\n",
       "    <tr>\n",
       "      <th>mean</th>\n",
       "      <td>1.470341e+18</td>\n",
       "      <td>182.250000</td>\n",
       "      <td>221.670000</td>\n",
       "      <td>1.470159e+18</td>\n",
       "      <td>1.470326e+18</td>\n",
       "      <td>3.584328e+17</td>\n",
       "    </tr>\n",
       "    <tr>\n",
       "      <th>std</th>\n",
       "      <td>8.246867e+13</td>\n",
       "      <td>451.598516</td>\n",
       "      <td>1657.131232</td>\n",
       "      <td>1.011184e+14</td>\n",
       "      <td>5.820136e+13</td>\n",
       "      <td>5.582900e+17</td>\n",
       "    </tr>\n",
       "    <tr>\n",
       "      <th>min</th>\n",
       "      <td>1.469726e+18</td>\n",
       "      <td>0.000000</td>\n",
       "      <td>0.000000</td>\n",
       "      <td>1.469984e+18</td>\n",
       "      <td>1.470208e+18</td>\n",
       "      <td>8.257875e+07</td>\n",
       "    </tr>\n",
       "    <tr>\n",
       "      <th>25%</th>\n",
       "      <td>1.470355e+18</td>\n",
       "      <td>2.000000</td>\n",
       "      <td>0.000000</td>\n",
       "      <td>1.470111e+18</td>\n",
       "      <td>1.470342e+18</td>\n",
       "      <td>5.301602e+08</td>\n",
       "    </tr>\n",
       "    <tr>\n",
       "      <th>50%</th>\n",
       "      <td>1.470355e+18</td>\n",
       "      <td>12.500000</td>\n",
       "      <td>0.000000</td>\n",
       "      <td>1.470160e+18</td>\n",
       "      <td>1.470352e+18</td>\n",
       "      <td>1.924476e+09</td>\n",
       "    </tr>\n",
       "    <tr>\n",
       "      <th>75%</th>\n",
       "      <td>1.470355e+18</td>\n",
       "      <td>107.250000</td>\n",
       "      <td>0.000000</td>\n",
       "      <td>1.470232e+18</td>\n",
       "      <td>1.470353e+18</td>\n",
       "      <td>7.378376e+17</td>\n",
       "    </tr>\n",
       "    <tr>\n",
       "      <th>max</th>\n",
       "      <td>1.470355e+18</td>\n",
       "      <td>2590.000000</td>\n",
       "      <td>15955.000000</td>\n",
       "      <td>1.470279e+18</td>\n",
       "      <td>1.470354e+18</td>\n",
       "      <td>1.166813e+18</td>\n",
       "    </tr>\n",
       "  </tbody>\n",
       "</table>\n",
       "</div>"
      ],
      "text/plain": [
       "                 id  retweet_count  favorite_count  quoted_status_id  \\\n",
       "count  1.000000e+02     100.000000      100.000000      7.000000e+00   \n",
       "mean   1.470341e+18     182.250000      221.670000      1.470159e+18   \n",
       "std    8.246867e+13     451.598516     1657.131232      1.011184e+14   \n",
       "min    1.469726e+18       0.000000        0.000000      1.469984e+18   \n",
       "25%    1.470355e+18       2.000000        0.000000      1.470111e+18   \n",
       "50%    1.470355e+18      12.500000        0.000000      1.470160e+18   \n",
       "75%    1.470355e+18     107.250000        0.000000      1.470232e+18   \n",
       "max    1.470355e+18    2590.000000    15955.000000      1.470279e+18   \n",
       "\n",
       "       in_reply_to_status_id  in_reply_to_user_id  \n",
       "count           6.000000e+00         6.000000e+00  \n",
       "mean            1.470326e+18         3.584328e+17  \n",
       "std             5.820136e+13         5.582900e+17  \n",
       "min             1.470208e+18         8.257875e+07  \n",
       "25%             1.470342e+18         5.301602e+08  \n",
       "50%             1.470352e+18         1.924476e+09  \n",
       "75%             1.470353e+18         7.378376e+17  \n",
       "max             1.470354e+18         1.166813e+18  "
      ]
     },
     "execution_count": 7,
     "metadata": {},
     "output_type": "execute_result"
    }
   ],
   "source": [
    "df.describe()"
   ]
  },
  {
   "cell_type": "code",
   "execution_count": 8,
   "metadata": {
    "colab": {
     "base_uri": "https://localhost:8080/"
    },
    "id": "erO4ILkPw4ZY",
    "outputId": "2a1050d4-ec78-48b8-f731-e6b62e00144d"
   },
   "outputs": [
    {
     "data": {
      "text/plain": [
       "Index(['id', 'id_str', 'full_text', 'source', 'source_url', 'retweet_count',\n",
       "       'favorite_count', 'lang', 'quoted_status_id', 'quoted_status_id_str',\n",
       "       'in_reply_to_status_id', 'in_reply_to_status_id_str',\n",
       "       'in_reply_to_user_id', 'in_reply_to_user_id_str',\n",
       "       'in_reply_to_screen_name'],\n",
       "      dtype='object')"
      ]
     },
     "execution_count": 8,
     "metadata": {},
     "output_type": "execute_result"
    }
   ],
   "source": [
    "df.columns"
   ]
  },
  {
   "cell_type": "code",
   "execution_count": 9,
   "metadata": {
    "colab": {
     "base_uri": "https://localhost:8080/",
     "height": 452
    },
    "id": "sRQn9r_pw_jY",
    "outputId": "f5398700-b8f3-4a3a-d6b9-be437db6acf5"
   },
   "outputs": [
    {
     "data": {
      "text/html": [
       "<div>\n",
       "<style scoped>\n",
       "    .dataframe tbody tr th:only-of-type {\n",
       "        vertical-align: middle;\n",
       "    }\n",
       "\n",
       "    .dataframe tbody tr th {\n",
       "        vertical-align: top;\n",
       "    }\n",
       "\n",
       "    .dataframe thead th {\n",
       "        text-align: right;\n",
       "    }\n",
       "</style>\n",
       "<table border=\"1\" class=\"dataframe\">\n",
       "  <thead>\n",
       "    <tr style=\"text-align: right;\">\n",
       "      <th></th>\n",
       "      <th>id</th>\n",
       "      <th>id_str</th>\n",
       "      <th>full_text</th>\n",
       "      <th>source</th>\n",
       "      <th>source_url</th>\n",
       "      <th>retweet_count</th>\n",
       "      <th>favorite_count</th>\n",
       "      <th>lang</th>\n",
       "    </tr>\n",
       "  </thead>\n",
       "  <tbody>\n",
       "    <tr>\n",
       "      <th>0</th>\n",
       "      <td>1469962406470336516</td>\n",
       "      <td>1469962406470336516</td>\n",
       "      <td>In a world gone mad #Marr is criticising @Keir...</td>\n",
       "      <td>Twitter for iPad</td>\n",
       "      <td>http://twitter.com/#!/download/ipad</td>\n",
       "      <td>2590</td>\n",
       "      <td>15955</td>\n",
       "      <td>en</td>\n",
       "    </tr>\n",
       "    <tr>\n",
       "      <th>1</th>\n",
       "      <td>1469975237894803457</td>\n",
       "      <td>1469975237894803457</td>\n",
       "      <td>Doctors &amp;amp; nurses in UK 🇬🇧 are too traumati...</td>\n",
       "      <td>Twitter for iPhone</td>\n",
       "      <td>http://twitter.com/download/iphone</td>\n",
       "      <td>1851</td>\n",
       "      <td>4315</td>\n",
       "      <td>en</td>\n",
       "    </tr>\n",
       "    <tr>\n",
       "      <th>2</th>\n",
       "      <td>1469726461456269315</td>\n",
       "      <td>1469726461456269315</td>\n",
       "      <td>EXCLUSIVE: Nigerian Government To Place UK, Ca...</td>\n",
       "      <td>Twitter for Android</td>\n",
       "      <td>http://twitter.com/download/android</td>\n",
       "      <td>899</td>\n",
       "      <td>1896</td>\n",
       "      <td>en</td>\n",
       "    </tr>\n",
       "    <tr>\n",
       "      <th>3</th>\n",
       "      <td>1470355047854845959</td>\n",
       "      <td>1470355047854845959</td>\n",
       "      <td>RT @ProtestNews_EN: #France, #Montauban \\nChao...</td>\n",
       "      <td>Twitter for iPhone</td>\n",
       "      <td>http://twitter.com/download/iphone</td>\n",
       "      <td>35</td>\n",
       "      <td>0</td>\n",
       "      <td>en</td>\n",
       "    </tr>\n",
       "    <tr>\n",
       "      <th>4</th>\n",
       "      <td>1470355036886781955</td>\n",
       "      <td>1470355036886781955</td>\n",
       "      <td>RT @ellymelly: Hospitals exist as a service fo...</td>\n",
       "      <td>Twitter for Mac</td>\n",
       "      <td>http://itunes.apple.com/us/app/twitter/id40978...</td>\n",
       "      <td>326</td>\n",
       "      <td>0</td>\n",
       "      <td>en</td>\n",
       "    </tr>\n",
       "  </tbody>\n",
       "</table>\n",
       "</div>"
      ],
      "text/plain": [
       "                    id               id_str  \\\n",
       "0  1469962406470336516  1469962406470336516   \n",
       "1  1469975237894803457  1469975237894803457   \n",
       "2  1469726461456269315  1469726461456269315   \n",
       "3  1470355047854845959  1470355047854845959   \n",
       "4  1470355036886781955  1470355036886781955   \n",
       "\n",
       "                                           full_text               source  \\\n",
       "0  In a world gone mad #Marr is criticising @Keir...     Twitter for iPad   \n",
       "1  Doctors &amp; nurses in UK 🇬🇧 are too traumati...   Twitter for iPhone   \n",
       "2  EXCLUSIVE: Nigerian Government To Place UK, Ca...  Twitter for Android   \n",
       "3  RT @ProtestNews_EN: #France, #Montauban \\nChao...   Twitter for iPhone   \n",
       "4  RT @ellymelly: Hospitals exist as a service fo...      Twitter for Mac   \n",
       "\n",
       "                                          source_url  retweet_count  \\\n",
       "0                http://twitter.com/#!/download/ipad           2590   \n",
       "1                 http://twitter.com/download/iphone           1851   \n",
       "2                http://twitter.com/download/android            899   \n",
       "3                 http://twitter.com/download/iphone             35   \n",
       "4  http://itunes.apple.com/us/app/twitter/id40978...            326   \n",
       "\n",
       "   favorite_count lang  \n",
       "0           15955   en  \n",
       "1            4315   en  \n",
       "2            1896   en  \n",
       "3               0   en  \n",
       "4               0   en  "
      ]
     },
     "execution_count": 9,
     "metadata": {},
     "output_type": "execute_result"
    }
   ],
   "source": [
    "#drop columns\n",
    "df=df.drop(['quoted_status_id','quoted_status_id_str','in_reply_to_status_id','in_reply_to_status_id_str'\n",
    "         ,'in_reply_to_user_id','in_reply_to_user_id_str','in_reply_to_screen_name'],axis = 1)\n",
    "df.head()"
   ]
  },
  {
   "cell_type": "code",
   "execution_count": 10,
   "metadata": {
    "colab": {
     "base_uri": "https://localhost:8080/"
    },
    "id": "UA6DAOOmxIzL",
    "outputId": "7ba9e09b-d3cc-4dfd-db76-09d2c633b648"
   },
   "outputs": [
    {
     "name": "stdout",
     "output_type": "stream",
     "text": [
      "Requirement already satisfied: emoji in c:\\users\\dell\\anaconda3\\lib\\site-packages (1.6.1)\n",
      "Note: you may need to restart the kernel to use updated packages.\n"
     ]
    }
   ],
   "source": [
    "pip install emoji --upgrade"
   ]
  },
  {
   "cell_type": "code",
   "execution_count": 11,
   "metadata": {
    "id": "8VOe5vuxxE6U"
   },
   "outputs": [],
   "source": [
    "#clean_text\n",
    "import re\n",
    "import numpy as np\n",
    "import string\n",
    "import emoji\n",
    "def clean_text(text):\n",
    "    text = str(text).lower()\n",
    "    text = re.sub(r'@[A-Za-z0-9]+','',text)\n",
    "    text = re.sub(r'#','',text)\n",
    "    text = re.sub(r'RT[\\s]+','',text)\n",
    "    text = re.sub(r'rt[\\s]+','',text)\n",
    "    text = re.sub(r'https?:\\/\\/\\S+','',text)\n",
    "    text = re.sub(r'[0-9]','',text)\n",
    "    text = re.sub('[%s]' % re.escape(string.punctuation), '', text)\n",
    "    text = emoji.get_emoji_regexp().sub(\"\",text)\n",
    "    \n",
    "    return text"
   ]
  },
  {
   "cell_type": "code",
   "execution_count": 12,
   "metadata": {
    "colab": {
     "base_uri": "https://localhost:8080/"
    },
    "id": "fomsoMnnxSdN",
    "outputId": "6067b541-b924-412b-c776-c4ded67715f8"
   },
   "outputs": [
    {
     "name": "stdout",
     "output_type": "stream",
     "text": [
      "0     in a world gone mad marr is criticising starme...\n",
      "1     doctors amp nurses in uk  are too traumatized ...\n",
      "2     exclusive nigerian government to place uk cana...\n",
      "3     en france montauban \\nchaos at montauban angry...\n",
      "4      hospitals exist as a service for all citizens...\n",
      "                            ...                        \n",
      "95     covid home testing kits have run out on gover...\n",
      "96    odisha appreciation for   and admin for settin...\n",
      "97     actress kareena kapoor khan amp amrita arora ...\n",
      "98     malaysia mon  dec  covid update\\n\\nlive updat...\n",
      "99        where is maulanasaad of tablighijamaat  wh...\n",
      "Name: full_text, Length: 100, dtype: object\n"
     ]
    }
   ],
   "source": [
    "df['full_text']=df['full_text'].apply(clean_text)\n",
    "print(df['full_text'])"
   ]
  },
  {
   "cell_type": "code",
   "execution_count": 13,
   "metadata": {
    "colab": {
     "base_uri": "https://localhost:8080/"
    },
    "id": "QItb2ctvxguU",
    "outputId": "2b9394c8-3017-4dd6-f0be-a808b067a04f"
   },
   "outputs": [
    {
     "name": "stderr",
     "output_type": "stream",
     "text": [
      "[nltk_data] Downloading package stopwords to\n",
      "[nltk_data]     C:\\Users\\Dell\\AppData\\Roaming\\nltk_data...\n",
      "[nltk_data]   Package stopwords is already up-to-date!\n"
     ]
    },
    {
     "data": {
      "text/plain": [
       "True"
      ]
     },
     "execution_count": 13,
     "metadata": {},
     "output_type": "execute_result"
    }
   ],
   "source": [
    "import nltk\n",
    "nltk.download('stopwords')\n",
    "  "
   ]
  },
  {
   "cell_type": "code",
   "execution_count": 14,
   "metadata": {
    "colab": {
     "base_uri": "https://localhost:8080/"
    },
    "id": "86sqf2FsxbLz",
    "outputId": "287f06f4-c7ab-45c3-dc07-aeadf61b62fe"
   },
   "outputs": [
    {
     "name": "stdout",
     "output_type": "stream",
     "text": [
      "['i', 'me', 'my', 'myself', 'we', 'our', 'ours', 'ourselves', 'you', \"you're\", \"you've\", \"you'll\", \"you'd\", 'your', 'yours', 'yourself', 'yourselves', 'he', 'him', 'his', 'himself', 'she', \"she's\", 'her', 'hers', 'herself', 'it', \"it's\", 'its', 'itself', 'they', 'them', 'their', 'theirs', 'themselves', 'what', 'which', 'who', 'whom', 'this', 'that', \"that'll\", 'these', 'those', 'am', 'is', 'are', 'was', 'were', 'be', 'been', 'being', 'have', 'has', 'had', 'having', 'do', 'does', 'did', 'doing', 'a', 'an', 'the', 'and', 'but', 'if', 'or', 'because', 'as', 'until', 'while', 'of', 'at', 'by', 'for', 'with', 'about', 'against', 'between', 'into', 'through', 'during', 'before', 'after', 'above', 'below', 'to', 'from', 'up', 'down', 'in', 'out', 'on', 'off', 'over', 'under', 'again', 'further', 'then', 'once', 'here', 'there', 'when', 'where', 'why', 'how', 'all', 'any', 'both', 'each', 'few', 'more', 'most', 'other', 'some', 'such', 'no', 'nor', 'not', 'only', 'own', 'same', 'so', 'than', 'too', 'very', 's', 't', 'can', 'will', 'just', 'don', \"don't\", 'should', \"should've\", 'now', 'd', 'll', 'm', 'o', 're', 've', 'y', 'ain', 'aren', \"aren't\", 'couldn', \"couldn't\", 'didn', \"didn't\", 'doesn', \"doesn't\", 'hadn', \"hadn't\", 'hasn', \"hasn't\", 'haven', \"haven't\", 'isn', \"isn't\", 'ma', 'mightn', \"mightn't\", 'mustn', \"mustn't\", 'needn', \"needn't\", 'shan', \"shan't\", 'shouldn', \"shouldn't\", 'wasn', \"wasn't\", 'weren', \"weren't\", 'won', \"won't\", 'wouldn', \"wouldn't\"]\n"
     ]
    }
   ],
   "source": [
    "import nltk\n",
    "from nltk.corpus import stopwords\n",
    "stop = stopwords.words('english')\n",
    "#exclude stopwords\n",
    "df['full_text'] = df['full_text'].apply(lambda x: ' '.join([word for word in x.split() if word not in stop]))\n",
    "print(stop)"
   ]
  },
  {
   "cell_type": "code",
   "execution_count": 15,
   "metadata": {
    "colab": {
     "base_uri": "https://localhost:8080/"
    },
    "id": "PWOva_kQxoYU",
    "outputId": "d2f8edbe-1099-49e8-eea4-79dca32af528"
   },
   "outputs": [
    {
     "data": {
      "text/plain": [
       "0    world gone mad marr criticising starmer suppor...\n",
       "1    doctors amp nurses uk traumatized refusing red...\n",
       "2    exclusive nigerian government place uk canada ...\n",
       "3    en france montauban chaos montauban angry farm...\n",
       "4    hospitals exist service citizens reward good b...\n",
       "Name: full_text, dtype: object"
      ]
     },
     "execution_count": 15,
     "metadata": {},
     "output_type": "execute_result"
    }
   ],
   "source": [
    "df['full_text'].head()"
   ]
  },
  {
   "cell_type": "code",
   "execution_count": 16,
   "metadata": {
    "colab": {
     "base_uri": "https://localhost:8080/"
    },
    "id": "vQID-ilpxuZh",
    "outputId": "e0396465-8578-4dbb-ea12-07cd5d043568"
   },
   "outputs": [
    {
     "name": "stderr",
     "output_type": "stream",
     "text": [
      "[nltk_data] Downloading package wordnet to\n",
      "[nltk_data]     C:\\Users\\Dell\\AppData\\Roaming\\nltk_data...\n",
      "[nltk_data]   Package wordnet is already up-to-date!\n"
     ]
    },
    {
     "data": {
      "text/plain": [
       "True"
      ]
     },
     "execution_count": 16,
     "metadata": {},
     "output_type": "execute_result"
    }
   ],
   "source": [
    "import nltk\n",
    "nltk.download('wordnet')\n",
    "  "
   ]
  },
  {
   "cell_type": "code",
   "execution_count": 17,
   "metadata": {
    "id": "u29W0QVexqP9"
   },
   "outputs": [],
   "source": [
    "#lemmatization\n",
    "w_tokenizer=nltk.tokenize.WhitespaceTokenizer()\n",
    "lemmatizer = nltk.stem.WordNetLemmatizer()\n",
    "def Lemmatize_text(text):\n",
    "    return [lemmatizer.lemmatize(w) for w in w_tokenizer.tokenize(text)]\n",
    "\n",
    "df['full_text_lemmatiz']=df['full_text'].apply(Lemmatize_text)"
   ]
  },
  {
   "cell_type": "code",
   "execution_count": 18,
   "metadata": {
    "colab": {
     "base_uri": "https://localhost:8080/"
    },
    "id": "sN2AdDBAx7rg",
    "outputId": "bc91afd9-5a2c-4344-dfeb-ed9674b5d9eb"
   },
   "outputs": [
    {
     "data": {
      "text/plain": [
       "0    [world, gone, mad, marr, criticising, starmer,...\n",
       "1    [doctor, amp, nurse, uk, traumatized, refusing...\n",
       "2    [exclusive, nigerian, government, place, uk, c...\n",
       "3    [en, france, montauban, chaos, montauban, angr...\n",
       "4    [hospital, exist, service, citizen, reward, go...\n",
       "Name: full_text_lemmatiz, dtype: object"
      ]
     },
     "execution_count": 18,
     "metadata": {},
     "output_type": "execute_result"
    }
   ],
   "source": [
    "df['full_text_lemmatiz'].head()"
   ]
  },
  {
   "cell_type": "code",
   "execution_count": 19,
   "metadata": {
    "colab": {
     "base_uri": "https://localhost:8080/"
    },
    "id": "YJBKzqGlx_3A",
    "outputId": "b3526520-9631-4f43-d4fb-fec897e96d33"
   },
   "outputs": [
    {
     "name": "stdout",
     "output_type": "stream",
     "text": [
      "Duration: 0:00:33.111224\n"
     ]
    }
   ],
   "source": [
    "end_time=datetime.now()\n",
    "print('Duration: {}'.format(end_time-start_time))"
   ]
  },
  {
   "cell_type": "code",
   "execution_count": 20,
   "metadata": {
    "id": "oUrxWeZmyHei"
   },
   "outputs": [],
   "source": [
    "df.to_json('stage2.json')"
   ]
  },
  {
   "cell_type": "code",
   "execution_count": null,
   "metadata": {},
   "outputs": [],
   "source": []
  }
 ],
 "metadata": {
  "colab": {
   "name": "datacleaning.ipynb",
   "provenance": []
  },
  "kernelspec": {
   "display_name": "Python 3",
   "language": "python",
   "name": "python3"
  },
  "language_info": {
   "codemirror_mode": {
    "name": "ipython",
    "version": 3
   },
   "file_extension": ".py",
   "mimetype": "text/x-python",
   "name": "python",
   "nbconvert_exporter": "python",
   "pygments_lexer": "ipython3",
   "version": "3.8.8"
  }
 },
 "nbformat": 4,
 "nbformat_minor": 1
}
